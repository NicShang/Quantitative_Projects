{
 "cells": [
  {
   "cell_type": "markdown",
   "id": "f5a7b971-5452-4edf-957d-b0622bea0e50",
   "metadata": {},
   "source": [
    "# Step 1: Data Processing"
   ]
  },
  {
   "cell_type": "code",
   "execution_count": 1,
   "id": "02de1011-06c3-4844-9bff-caec0e2d290b",
   "metadata": {},
   "outputs": [],
   "source": [
    "#为整个建模工作提供数据处理与可视化能力\n",
    "import pandas as pd\n",
    "import numpy as np\n",
    "import matplotlib.pyplot as plt\n",
    "import statsmodels.api as sm          \n",
    "\n",
    "#用于构建ARCH / GARCH 模型，捕捉波动率聚集\n",
    "from arch import arch_model           \n",
    "\n",
    "#统计性描述、尾部分析、VaR分析等提供支持\n",
    "from scipy import stats              \n",
    "from scipy.stats import kurtosis \n",
    "from scipy.stats import rankdata\n",
    "\n",
    "#时间序列预测模型（用于序列趋势建模）\n",
    "from statsmodels.tsa.arima.model import ARIMA\n",
    "\n",
    "#模型诊断\n",
    "from statsmodels.stats.stattools import jarque_bera  #正态性检验，判断收益率是否符合正态分布\n",
    "from statsmodels.stats.diagnostic import acorr_ljungbox #自相关检验，用于检验残差是否存在自相关或波动聚集\n",
    "\n",
    "#提供进度条显示\n",
    "from tqdm.notebook import tqdm\n",
    "#忽略运行中的警告信息，保持输出清洁\n",
    "import warnings\n",
    "warnings.filterwarnings('ignore')"
   ]
  },
  {
   "cell_type": "code",
   "execution_count": 2,
   "id": "326fdbd9-5077-4c80-b353-16938b48f5f6",
   "metadata": {
    "scrolled": true
   },
   "outputs": [
    {
     "data": {
      "text/html": [
       "<div>\n",
       "<style scoped>\n",
       "    .dataframe tbody tr th:only-of-type {\n",
       "        vertical-align: middle;\n",
       "    }\n",
       "\n",
       "    .dataframe tbody tr th {\n",
       "        vertical-align: top;\n",
       "    }\n",
       "\n",
       "    .dataframe thead th {\n",
       "        text-align: right;\n",
       "    }\n",
       "</style>\n",
       "<table border=\"1\" class=\"dataframe\">\n",
       "  <thead>\n",
       "    <tr style=\"text-align: right;\">\n",
       "      <th></th>\n",
       "      <th>Open</th>\n",
       "      <th>High</th>\n",
       "      <th>Low</th>\n",
       "      <th>Close</th>\n",
       "      <th>Adj Close</th>\n",
       "      <th>Volume</th>\n",
       "    </tr>\n",
       "    <tr>\n",
       "      <th>Date</th>\n",
       "      <th></th>\n",
       "      <th></th>\n",
       "      <th></th>\n",
       "      <th></th>\n",
       "      <th></th>\n",
       "      <th></th>\n",
       "    </tr>\n",
       "  </thead>\n",
       "  <tbody>\n",
       "    <tr>\n",
       "      <th>2015-01-02</th>\n",
       "      <td>65.845001</td>\n",
       "      <td>66.687500</td>\n",
       "      <td>65.622498</td>\n",
       "      <td>66.254997</td>\n",
       "      <td>61.894112</td>\n",
       "      <td>8389600</td>\n",
       "    </tr>\n",
       "    <tr>\n",
       "      <th>2015-01-05</th>\n",
       "      <td>65.872498</td>\n",
       "      <td>65.875000</td>\n",
       "      <td>64.717499</td>\n",
       "      <td>64.792503</td>\n",
       "      <td>60.527866</td>\n",
       "      <td>12751200</td>\n",
       "    </tr>\n",
       "    <tr>\n",
       "      <th>2015-01-06</th>\n",
       "      <td>64.947502</td>\n",
       "      <td>65.195000</td>\n",
       "      <td>63.715000</td>\n",
       "      <td>64.375000</td>\n",
       "      <td>60.137852</td>\n",
       "      <td>11070000</td>\n",
       "    </tr>\n",
       "    <tr>\n",
       "      <th>2015-01-07</th>\n",
       "      <td>64.610001</td>\n",
       "      <td>65.285004</td>\n",
       "      <td>64.362503</td>\n",
       "      <td>65.237503</td>\n",
       "      <td>60.943584</td>\n",
       "      <td>9346800</td>\n",
       "    </tr>\n",
       "    <tr>\n",
       "      <th>2015-01-08</th>\n",
       "      <td>65.800003</td>\n",
       "      <td>66.279999</td>\n",
       "      <td>65.657501</td>\n",
       "      <td>66.112503</td>\n",
       "      <td>61.761002</td>\n",
       "      <td>10443200</td>\n",
       "    </tr>\n",
       "    <tr>\n",
       "      <th>2015-01-09</th>\n",
       "      <td>65.902496</td>\n",
       "      <td>66.117500</td>\n",
       "      <td>64.942497</td>\n",
       "      <td>65.132500</td>\n",
       "      <td>60.845497</td>\n",
       "      <td>10523600</td>\n",
       "    </tr>\n",
       "    <tr>\n",
       "      <th>2015-01-12</th>\n",
       "      <td>65.260002</td>\n",
       "      <td>65.500000</td>\n",
       "      <td>64.785004</td>\n",
       "      <td>65.004997</td>\n",
       "      <td>60.726372</td>\n",
       "      <td>6425600</td>\n",
       "    </tr>\n",
       "    <tr>\n",
       "      <th>2015-01-13</th>\n",
       "      <td>65.504997</td>\n",
       "      <td>66.452499</td>\n",
       "      <td>64.777496</td>\n",
       "      <td>65.195000</td>\n",
       "      <td>60.903870</td>\n",
       "      <td>10284000</td>\n",
       "    </tr>\n",
       "    <tr>\n",
       "      <th>2015-01-14</th>\n",
       "      <td>64.160004</td>\n",
       "      <td>64.650002</td>\n",
       "      <td>63.529999</td>\n",
       "      <td>63.889999</td>\n",
       "      <td>59.684761</td>\n",
       "      <td>12225200</td>\n",
       "    </tr>\n",
       "    <tr>\n",
       "      <th>2015-01-15</th>\n",
       "      <td>64.177498</td>\n",
       "      <td>64.367500</td>\n",
       "      <td>63.090000</td>\n",
       "      <td>63.282501</td>\n",
       "      <td>59.117256</td>\n",
       "      <td>10569200</td>\n",
       "    </tr>\n",
       "  </tbody>\n",
       "</table>\n",
       "</div>"
      ],
      "text/plain": [
       "                 Open       High        Low      Close  Adj Close    Volume\n",
       "Date                                                                       \n",
       "2015-01-02  65.845001  66.687500  65.622498  66.254997  61.894112   8389600\n",
       "2015-01-05  65.872498  65.875000  64.717499  64.792503  60.527866  12751200\n",
       "2015-01-06  64.947502  65.195000  63.715000  64.375000  60.137852  11070000\n",
       "2015-01-07  64.610001  65.285004  64.362503  65.237503  60.943584   9346800\n",
       "2015-01-08  65.800003  66.279999  65.657501  66.112503  61.761002  10443200\n",
       "2015-01-09  65.902496  66.117500  64.942497  65.132500  60.845497  10523600\n",
       "2015-01-12  65.260002  65.500000  64.785004  65.004997  60.726372   6425600\n",
       "2015-01-13  65.504997  66.452499  64.777496  65.195000  60.903870  10284000\n",
       "2015-01-14  64.160004  64.650002  63.529999  63.889999  59.684761  12225200\n",
       "2015-01-15  64.177498  64.367500  63.090000  63.282501  59.117256  10569200"
      ]
     },
     "execution_count": 2,
     "metadata": {},
     "output_type": "execute_result"
    }
   ],
   "source": [
    "df = pd.read_csv('data_9.csv',index_col = 'Date', parse_dates = True) #parse_dates:自动将日期字符串转换为 datetime 格式。\n",
    "df.head(10)"
   ]
  },
  {
   "cell_type": "code",
   "execution_count": 3,
   "id": "ac9d5e27-fc06-4817-8076-93e05f150bc3",
   "metadata": {},
   "outputs": [
    {
     "data": {
      "text/plain": [
       "Open         float64\n",
       "High         float64\n",
       "Low          float64\n",
       "Close        float64\n",
       "Adj Close    float64\n",
       "Volume         int64\n",
       "dtype: object"
      ]
     },
     "execution_count": 3,
     "metadata": {},
     "output_type": "execute_result"
    }
   ],
   "source": [
    "# Knowing data type for all column\n",
    "df.dtypes"
   ]
  },
  {
   "cell_type": "code",
   "execution_count": 4,
   "id": "9955b55e-b509-4194-9c9e-342ef0005d31",
   "metadata": {},
   "outputs": [
    {
     "data": {
      "text/plain": [
       "Open         0\n",
       "High         0\n",
       "Low          0\n",
       "Close        0\n",
       "Adj Close    0\n",
       "Volume       0\n",
       "dtype: int64"
      ]
     },
     "execution_count": 4,
     "metadata": {},
     "output_type": "execute_result"
    }
   ],
   "source": [
    "# Checking for missing value\n",
    "df.isnull().sum()"
   ]
  },
  {
   "cell_type": "code",
   "execution_count": 5,
   "id": "006e1bd4-e758-4f7a-a6e9-53099b022994",
   "metadata": {},
   "outputs": [
    {
     "data": {
      "text/plain": [
       "Date\n",
       "2015-01-02     61.894112\n",
       "2015-01-05     60.527866\n",
       "2015-01-06     60.137852\n",
       "2015-01-07     60.943584\n",
       "2015-01-08     61.761002\n",
       "                 ...    \n",
       "2024-08-23    267.440002\n",
       "2024-08-26    268.209991\n",
       "2024-08-27    270.720001\n",
       "2024-08-28    269.190002\n",
       "2024-08-29    274.320007\n",
       "Name: Adj Close, Length: 2431, dtype: float64"
      ]
     },
     "execution_count": 5,
     "metadata": {},
     "output_type": "execute_result"
    }
   ],
   "source": [
    "# Extract the Adjust Close price\n",
    "p = df['Adj Close']\n",
    "p"
   ]
  },
  {
   "cell_type": "code",
   "execution_count": 6,
   "id": "880a8838-a57c-4a48-871f-bbb56709aa65",
   "metadata": {},
   "outputs": [
    {
     "data": {
      "image/png": "[encoded data removed]",
      "text/plain": [
       "<Figure size 640x480 with 1 Axes>"
      ]
     },
     "metadata": {},
     "output_type": "display_data"
    }
   ],
   "source": [
    "# plot of stock price checking for trends\n",
    "plt.plot(p, label='Adj. Close')\n",
    "plt.xlabel('Date')\n",
    "plt.ylabel('Price')\n",
    "plt.title('Visa Price Series')\n",
    "plt.legend()\n",
    "plt.show()"
   ]
  },
  {
   "cell_type": "markdown",
   "id": "042ebeb5-86a0-47fd-a717-50328896d111",
   "metadata": {},
   "source": [
    "#### **Conclusion**: The share price has a clear upward trend and a volatility clustering feature, so it can't be directly modeled."
   ]
  },
  {
   "cell_type": "code",
   "execution_count": 7,
   "id": "516b694f-ce5b-4ddc-85ab-7f51235a15af",
   "metadata": {},
   "outputs": [
    {
     "data": {
      "text/plain": [
       "Date\n",
       "2015-01-02         NaN\n",
       "2015-01-05   -2.232119\n",
       "2015-01-06   -0.646440\n",
       "2015-01-07    1.330914\n",
       "2015-01-08    1.332353\n",
       "                ...   \n",
       "2024-08-23   -0.186783\n",
       "2024-08-26    0.287497\n",
       "2024-08-27    0.931486\n",
       "2024-08-28   -0.566762\n",
       "2024-08-29    1.887788\n",
       "Name: Adj Close, Length: 2431, dtype: float64"
      ]
     },
     "execution_count": 7,
     "metadata": {},
     "output_type": "execute_result"
    }
   ],
   "source": [
    "# Log Return\n",
    "r = np.log(p).diff() * 100\n",
    "r"
   ]
  },
  {
   "cell_type": "code",
   "execution_count": 8,
   "id": "40694191-13a6-49f3-bcc6-d55b227e9aeb",
   "metadata": {},
   "outputs": [
    {
     "name": "stdout",
     "output_type": "stream",
     "text": [
      "Date\n",
      "2015-01-05   -2.232119\n",
      "2015-01-06   -0.646440\n",
      "2015-01-07    1.330914\n",
      "2015-01-08    1.332353\n",
      "2015-01-09   -1.493431\n",
      "                ...   \n",
      "2024-08-23   -0.186783\n",
      "2024-08-26    0.287497\n",
      "2024-08-27    0.931486\n",
      "2024-08-28   -0.566762\n",
      "2024-08-29    1.887788\n",
      "Name: Adj Close, Length: 2430, dtype: float64\n"
     ]
    },
    {
     "data": {
      "text/plain": [
       "count    2430.000000\n",
       "mean        0.061270\n",
       "std         1.547585\n",
       "min       -14.557135\n",
       "25%        -0.655620\n",
       "50%         0.135002\n",
       "75%         0.828285\n",
       "max        12.964701\n",
       "Name: Adj Close, dtype: float64"
      ]
     },
     "execution_count": 8,
     "metadata": {},
     "output_type": "execute_result"
    }
   ],
   "source": [
    "# Remove the day 1 return cuz missing\n",
    "r = r[1:]   \n",
    "print(r)\n",
    "r.describe()"
   ]
  },
  {
   "cell_type": "code",
   "execution_count": 9,
   "id": "219b799e-e762-4718-9730-a00644c54df6",
   "metadata": {},
   "outputs": [
    {
     "name": "stdout",
     "output_type": "stream",
     "text": [
      "[-7.61010119 -5.08316035 -4.42861293 -1.52544177 -0.65562028  0.13500169\n",
      "  0.82828529  1.59079591  4.21563545  5.30781029  9.77826039]\n"
     ]
    }
   ],
   "source": [
    "# Calculate the quantile for the return serires\n",
    "print(np.quantile(r, [0.001, 0.005, 0.01, 0.1, 0.25, 0.5, 0.75, 0.9, 0.99, 0.995, 0.999])) "
   ]
  },
  {
   "cell_type": "code",
   "execution_count": 10,
   "id": "43cf468f-d70a-449a-8463-a9796bb3be17",
   "metadata": {},
   "outputs": [
    {
     "name": "stdout",
     "output_type": "stream",
     "text": [
      "-0.06978369607720848\n",
      "9.730237658126462\n"
     ]
    }
   ],
   "source": [
    "# Calculate the skewness and kurtosis\n",
    "print(r.skew())\n",
    "print(r.kurtosis())"
   ]
  },
  {
   "cell_type": "markdown",
   "id": "4bd84a12-5e58-418d-a6b8-d02ec0f4ea73",
   "metadata": {},
   "source": [
    "#### **Conclusion**: \n",
    "- 相比正态分布，该资产的收益分布在两端尾部的概率更高\n",
    "- 发生极端亏损或极端盈利的可能性高于正态分布的预测\n",
    "- skew = -0.07, 轻微左偏，收益率略倾向负方向, 表示出现极端亏损的概率略高于极端上涨"
   ]
  },
  {
   "cell_type": "code",
   "execution_count": 11,
   "id": "af831a03-f540-4ce6-a68e-3bd2e36bae91",
   "metadata": {},
   "outputs": [
    {
     "data": {
      "image/png": "[encoded data removed]",
      "text/plain": [
       "<Figure size 640x480 with 1 Axes>"
      ]
     },
     "metadata": {},
     "output_type": "display_data"
    }
   ],
   "source": [
    "# Visualize the log return distribution\n",
    "plt.hist(r, 50)\n",
    "plt.title('Histogram of Log-Returns')\n",
    "plt.show()"
   ]
  },
  {
   "cell_type": "markdown",
   "id": "da3e115b-fb86-4f3f-ae96-ba3cac8829a9",
   "metadata": {},
   "source": [
    "#### Conclusion:\n",
    "- The distribution also has fat tails and high kurtosis, consistent with a kurtosis value of 9.74, which indicates a higher probability of extreme returns than predicted by a normal distribution.\n",
    "- 不能使用正态分布VaR或OLS方差模型，应该使用 GARCH 或带厚尾分布的模型（t-GARCH、Historical VaR）"
   ]
  },
  {
   "cell_type": "code",
   "execution_count": 12,
   "id": "2cf5ffb2-863e-441c-809a-1f529a9e4527",
   "metadata": {},
   "outputs": [
    {
     "data": {
      "image/png": "[encoded data removed]",
      "text/plain": [
       "<Figure size 640x480 with 1 Axes>"
      ]
     },
     "metadata": {},
     "output_type": "display_data"
    }
   ],
   "source": [
    "# 判断收益率分布是否符合正态分布假设\n",
    "sm.qqplot(r, line='45')\n",
    "plt.title('Normal QQ Plot of Log-Returns')\n",
    "plt.xlim(-5, 5)\n",
    "plt.show()"
   ]
  },
  {
   "cell_type": "markdown",
   "id": "99614a8a-b06e-4d67-b0e9-f2f5812ef4cc",
   "metadata": {},
   "source": [
    "#### **Conclusion**： \n",
    "- QQ plot：帮助我们可视化判断是否对数回报符合正态分布。\n",
    "- 左尾数据远低于红线下方，右尾数据远高于红线上方，意味着极端涨跌出现的概率远高于正态分布预测。\n",
    "- 大部分中间的数据贴近于红线，说明收益率小幅波动时接近与正态分布。"
   ]
  },
  {
   "cell_type": "code",
   "execution_count": 13,
   "id": "d2501416-9e77-4e9b-ba57-fe738c80a5b4",
   "metadata": {},
   "outputs": [
    {
     "data": {
      "image/png": "[encoded data removed]",
      "text/plain": [
       "<Figure size 640x480 with 1 Axes>"
      ]
     },
     "metadata": {},
     "output_type": "display_data"
    }
   ],
   "source": [
    "# 可视化对数回报的波动\n",
    "plt.plot(r)\n",
    "plt.xlabel('Date')\n",
    "plt.ylabel('Log-returns (%)')\n",
    "plt.title('Visa Return Series')\n",
    "plt.show()"
   ]
  },
  {
   "cell_type": "markdown",
   "id": "69c0d3ca-492d-4aa6-8dfc-a24c062c1ddf",
   "metadata": {},
   "source": [
    "#### **Conclusion:**\n",
    "- 大部分波动围绕在 0 附近。\n",
    "- 有一些时期 （ex: 2020）疫情期间呈现连续的高波动, 涨跌幅极大,紧随其后的高波动时期；而其他阶段（ex：2016–2018）则相对平稳。\n",
    "- 有几处收益率突破 ±10%（如 -15%、+12%）也就是非正态异常值存在。"
   ]
  },
  {
   "cell_type": "markdown",
   "id": "60171a07-8e2e-4ea7-b1da-cc64f7274af2",
   "metadata": {},
   "source": [
    "### Extreme tails"
   ]
  },
  {
   "cell_type": "code",
   "execution_count": 14,
   "id": "7ae5ade8-0269-48db-a4a7-6683ec7dad67",
   "metadata": {},
   "outputs": [
    {
     "name": "stdout",
     "output_type": "stream",
     "text": [
      "The 0.1% quantile of actual standard return is: -4.96\n",
      "The 0.1% quantile of Normal distribution return is: -3.09\n",
      "The 0.1% quantile of T distribution return is: -5.21\n",
      "--------------\n",
      "The 99.9% quantile of actual standard return is: 6.28\n",
      "The 99.9% quantile of Normal distribution return is: 3.09\n",
      "The 99.9% quantile of T distribution return is: 4.5\n"
     ]
    }
   ],
   "source": [
    "# 比较标准化后的log return、Normal Distribution和 T distribution 的极端尾部分析\n",
    "r_vec = r.values\n",
    "r_std = (r_vec - np.mean(r_vec)) / np.std(r_vec)\n",
    "\n",
    "print(f'The 0.1% quantile of actual standard return is: {np.quantile(r_std, 0.001).round(2)}') \n",
    "print(f'The 0.1% quantile of Normal distribution return is: {stats.norm.ppf(0.001).round(2)}')\n",
    "print(f'The 0.1% quantile of T distribution return is: {stats.t.ppf(0.001, df=6).round(2)}')\n",
    "print ('--------------')\n",
    "print(f'The 99.9% quantile of actual standard return is: {np.quantile(r_std, 0.999).round(2)}')\n",
    "print(f'The 99.9% quantile of Normal distribution return is: {stats.norm.ppf(0.999).round(2)}')\n",
    "print(f'The 99.9% quantile of T distribution return is: {stats.t.ppf(0.999, df=8).round(2)}')"
   ]
  },
  {
   "cell_type": "markdown",
   "id": "535ff62c-c095-45b6-abb1-0688ec679e89",
   "metadata": {},
   "source": [
    "#### Conclusion:\n",
    "- The actual data shows far heavier tails than the normal distribution, and even exceeds the tails of t-distributions with moderate degrees of freedom"
   ]
  },
  {
   "cell_type": "markdown",
   "id": "510dac73-9c66-47d3-85a1-2a8e155b16dc",
   "metadata": {},
   "source": [
    "### Augmented Dickey-Fuller Test用于判断时间序列是否平稳（是否有单位根） \n",
    "\n",
    "| 项目                | 解释                           | 我的结果        | 结论                    |\n",
    "| ----------------- | ---------------------------- | ----------- | --------------------- |\n",
    "| **ADF Statistic** | 越小越支持拒绝单位根原假设（即支持平稳性）        | -13.43      | 非常小，强烈拒绝非平稳性假设        |\n",
    "| **p-value**       | 显著性检验指标，若 <0.05 则序列平稳        | 3.99e-25    | 显著拒绝原假设              |\n",
    "| **滞后阶数**          | 模型自动选定的AR滞后期数                | 15          | 可用于进一步建模中参考           |\n",
    "| **样本数**           | 有效样本量                        | 2414        | 数据量足够                 |\n",
    "| **临界值**           | 用于与 ADF Statistic 比较，参考显著性水平 | -3.433（1%）等 | ADF Statistic < 所有临界值 |\n",
    "| **IC 最优值**        | 最小AIC或BIC的值，仅用于模型比较          | 8831.7      | 可忽略不看                 |\n"
   ]
  },
  {
   "cell_type": "code",
   "execution_count": 18,
   "id": "849008f5-0702-400a-bb6a-c7f9c8eab48d",
   "metadata": {},
   "outputs": [
    {
     "name": "stdout",
     "output_type": "stream",
     "text": [
      "ADF Statistic: -13.43\n",
      "p-value: 3.9984273503122893e-25\n",
      "Critical Values: {'1%': np.float64(-3.4330617925579685), '5%': np.float64(-2.8627380367880577), '10%': np.float64(-2.567407764552126)}\n",
      "The returns series is stationary.\n"
     ]
    }
   ],
   "source": [
    "from statsmodels.tsa.stattools import adfuller\n",
    "\n",
    "adf_result = adfuller(r)\n",
    "\n",
    "print('ADF Statistic:', adf_result[0].round(2))\n",
    "print('p-value:', adf_result[1])\n",
    "print('Critical Values:', adf_result[4])\n",
    "\n",
    "if adf_result[1] < 0.05:\n",
    "    print(\"The returns series is stationary.\")\n",
    "else:\n",
    "    print(\"The returns series is non-stationary.\")"
   ]
  },
  {
   "cell_type": "code",
   "execution_count": 19,
   "id": "e0b82a0c-a629-4ab4-90aa-660d5e9b1754",
   "metadata": {},
   "outputs": [
    {
     "data": {
      "image/png": "[encoded data removed]",
      "text/plain": [
       "<Figure size 1200x800 with 2 Axes>"
      ]
     },
     "metadata": {},
     "output_type": "display_data"
    }
   ],
   "source": [
    "# ACF（自相关函数）和 PACF（偏自相关函数）分析\n",
    "fig, ax = plt.subplots(2, figsize=(12,8))\n",
    "\n",
    "sm.graphics.tsa.plot_acf(r.dropna(), lags=20, ax=ax[0]) #\n",
    "ax[0].set_title('ACF for Log Returns (r)')\n",
    "\n",
    "sm.graphics.tsa.plot_pacf(r.dropna(), lags=20, ax=ax[1])\n",
    "ax[1].set_title('PACF for Log Returns (r)')\n",
    "\n",
    "plt.tight_layout()\n",
    "plt.show()"
   ]
  },
  {
   "cell_type": "markdown",
   "id": "fa393ae3-1581-44d2-b9ca-a3ced7eeaf8d",
   "metadata": {},
   "source": [
    "#### ACF:\n",
    "- 检查序列整体的相关性，有助于判断是否有 MA 成分或残差序列是否白噪声\n",
    "- ACF 的前一两个滞后期可能稍有显著性但都很小，其余基本都在置信区间内。说明收益率本身几乎没有显著自相关，没有明显的趋势或 AR/MA结构\n",
    "- 对于金融数据来说，这是很常见的现象。价格不可预测，收益率近似白噪声\n",
    "\n",
    "#### PACF：\n",
    "- 显示的是每个滞后期在剔除前面滞后影响后的净影响，有助于判断是否有AR成分（自回归结构）\n",
    "- Lag 1 非常显著，值接近 1.0, 可以考虑 AR(1) 结构\n",
    "- 从 Lag 2 及以后 都落在置信区间内，偏相关不显著；高阶 AR 成分不重要，不建议使用 AR(2)+"
   ]
  },
  {
   "cell_type": "code",
   "execution_count": 20,
   "id": "9ed106a2-d99f-4049-971a-a62fa9587730",
   "metadata": {},
   "outputs": [
    {
     "data": {
      "image/png": "[encoded data removed]",
      "text/plain": [
       "<Figure size 1200x800 with 2 Axes>"
      ]
     },
     "metadata": {},
     "output_type": "display_data"
    }
   ],
   "source": [
    "# Plot log returns and squared returns to check for volatility clustering\n",
    "fig, ax = plt.subplots(2, figsize=(12,8))\n",
    "\n",
    "ax[0].plot( r, label='Log Returns (r)')\n",
    "ax[0].set_title('Log Returns (r)')\n",
    "ax[0].set_ylabel('Log Returns')\n",
    "\n",
    "ax[1].plot(r**2, label='Squared Log Returns (Volatility Clustering)')\n",
    "ax[1].set_title('Squared Log Returns (r^2)')\n",
    "ax[1].set_ylabel('Squared Log Returns')\n",
    "\n",
    "plt.tight_layout()\n",
    "plt.show()"
   ]
  },
  {
   "cell_type": "markdown",
   "id": "0ba2ab02-f3a7-4f6d-a529-d172531506d5",
   "metadata": {},
   "source": [
    "#### Conclusion: \n",
    "- 对数收益的平方可以用来近似衡量波动率的大小\n",
    "- 波动率存在显著的自相关性，说明它不是随机变化的，而是具有记忆性"
   ]
  },
  {
   "cell_type": "code",
   "execution_count": null,
   "id": "0a81820b-643a-47b8-ad28-3e58c9a62e75",
   "metadata": {},
   "outputs": [],
   "source": [
    "#检验序列中是否存在自相关性\n",
    "print( \"Ljung-Box Q-statistic:\" )\n",
    "for p in [ 5, 10, 15 ]:\n",
    "    LB_test = acorr_ljungbox( r, lags=[p], return_df = False )\n",
    "    print('maxlag: {0:d}. Q-stat: {1:f}. P-value: {2:f}'.format( p, float(LB_test.iloc[0,0]), float(LB_test.iloc[0,1]) ) )\n",
    "print()     \n",
    "\n",
    "print( \"Ljung-Box Q-statistic:\" )\n",
    "for p in [ 5, 10, 15 ]:\n",
    "    LB_test = acorr_ljungbox( r**2, lags=[p], return_df = False )\n",
    "    print('maxlag: {0:d}. Q-stat: {1:f}. P-value: {2:f}'.format( p, float(LB_test.iloc[0,0]), float(LB_test.iloc[0,1]) ) )\n",
    "print()   "
   ]
  },
  {
   "cell_type": "markdown",
   "id": "fc19ddf7-9ec3-477b-8730-2475003a6843",
   "metadata": {},
   "source": [
    "#### Conclusion: \n",
    "- The Ljung-Box test strongly rejects the null hypothesis of no autocorrelation in the squared log returns.\n",
    "- There is strong evidence in favour of conditional heteroskedasticity."
   ]
  },
  {
   "cell_type": "markdown",
   "id": "fdf11bea-2083-40c3-8dca-1a1ec261d1f0",
   "metadata": {},
   "source": [
    "# Step 2: Model Building"
   ]
  },
  {
   "cell_type": "markdown",
   "id": "7c9c3c20-2ea5-4efb-9eaa-16a15ba178a3",
   "metadata": {},
   "source": [
    "### 1) Finding a return model"
   ]
  },
  {
   "cell_type": "code",
   "execution_count": null,
   "id": "0c2ab19e-c3b7-4275-bc9c-8d2280687864",
   "metadata": {},
   "outputs": [],
   "source": [
    "acfplot = sm.graphics.tsa.plot_acf(r)\n",
    "pacfplot = sm.graphics.tsa.plot_pacf(r)"
   ]
  },
  {
   "cell_type": "markdown",
   "id": "9f198a47-ce8d-49ac-95dd-1dd2745f36c6",
   "metadata": {},
   "source": [
    "- The ACF and PACF plots of the log returns indicate that the returns themselves exhibit weak or no autocorrelation, suggesting that the series is approximately white noise.\n",
    "- I chose AR(6) based on the PACF plot, which showed significant partial autocorrelation up to lag 6 and then cut off. This suggested an AR(6) model would sufficiently capture the autocorrelation structure in the return series."
   ]
  },
  {
   "cell_type": "markdown",
   "id": "63e579c0-3113-4560-82a8-921c2c79007b",
   "metadata": {},
   "source": [
    "## AR(6)"
   ]
  },
  {
   "cell_type": "code",
   "execution_count": null,
   "id": "9cd99f85-36db-4cfe-a90a-0e1e1a5c185b",
   "metadata": {},
   "outputs": [],
   "source": [
    "# Fit AR(6)\n",
    "r_AR6 = ARIMA(r, order=(6, 0, 0)).fit() \n",
    "r_AR6.summary()"
   ]
  },
  {
   "cell_type": "code",
   "execution_count": null,
   "id": "3d6e9c77-0ea7-481e-a6cd-a0d9a82cffc0",
   "metadata": {},
   "outputs": [],
   "source": [
    "print ('Ljung-Box Q-Statistic on Residual:')\n",
    "for p in [p+5, p+10, p+15]:\n",
    "    Qstat, pValue = acorr_ljungbox(r_AR6.resid, lags=[p], return_df=False).values[0]\n",
    "    print('maxlag:{0:d}. Q-stat: {1:f}. P-value: {2:f}'.format(p, Qstat, pValue))"
   ]
  },
  {
   "cell_type": "markdown",
   "id": "460b8d02-f7b9-449b-8bc3-3223aa63e55d",
   "metadata": {},
   "source": [
    "### Step 2: Finding a volatility model\n",
    "\n",
    "Now I will assume an AR(6) model for the mean, and test the following models for conditional heteroskedasticy。\n"
   ]
  },
  {
   "cell_type": "code",
   "execution_count": null,
   "id": "54ac9838-0d76-4d8c-be87-df2ebae55164",
   "metadata": {
    "scrolled": true
   },
   "outputs": [],
   "source": [
    "ret = r.dropna()\n",
    "\n",
    "p_range = range(1, 10)  # GARCH 里面的 p（滞后条件方差项的阶数）\n",
    "q_range = range(1, 10)  # ARCH 里面的 q（滞后误差项的阶数）\n",
    "\n",
    "best_aic = np.inf\n",
    "best_pq = (0, 0)\n",
    "\n",
    "for p in p_range:\n",
    "    for q in q_range:\n",
    "        try:\n",
    "            res = arch_model(ret, mean='AR', lags=15, vol='GARCH', p=p, q=q).fit(disp=\"off\")\n",
    " \n",
    "            print(f\"p={p}, q={q}, AIC={res.aic}\")\n",
    "\n",
    "            if res.aic < best_aic:\n",
    "                best_aic = res.aic\n",
    "                best_pq = (p, q)\n",
    "        except Exception as e:\n",
    "            print(f\"Error for p={p}, q={q}: {e}\")\n",
    "\n",
    "print(f\"Optimal p, q: {best_pq} with AIC: {best_aic}\")"
   ]
  },
  {
   "cell_type": "markdown",
   "id": "63603123-7ced-48d0-8626-a10a626260db",
   "metadata": {},
   "source": []
  },
  {
   "cell_type": "markdown",
   "id": "a1a8033f-f42a-4be0-b0b4-f6475d51535c",
   "metadata": {},
   "source": [
    "## Step3: Finding a distribution"
   ]
  },
  {
   "cell_type": "markdown",
   "id": "6cce7075-51a5-44d3-b658-22e555112c96",
   "metadata": {},
   "source": [
    "#### 什么是 AIC 和 BIC？\n",
    "\n",
    "| 指标      | 全称                             | 目的                      | 数学形式                  | 越小越好吗？ |\n",
    "| ------- | ------------------------------ | ----------------------- | --------------------- | ------ |\n",
    "| **AIC** | Akaike Information Criterion   | 衡量模型**拟合能力与复杂度的综合表现**   | AIC = 2k − 2ln(L)     |  越小越好 |\n",
    "| **BIC** | Bayesian Information Criterion | 类似 AIC，但对**模型复杂度惩罚更严厉** | BIC = ln(n)k − 2ln(L) |  越小越好 |\n"
   ]
  },
  {
   "cell_type": "code",
   "execution_count": null,
   "id": "c173e08c-dd41-47b1-9b57-bde0fab9a2f2",
   "metadata": {
    "scrolled": true
   },
   "outputs": [],
   "source": [
    "# Using Student T Distribution\n",
    "res_AR6_GARCH37_t = arch_model(r, mean='AR',lags=6, vol='GARCH',p=3,q=7,dist='StudentsT').fit(disp=\"off\")\n",
    "res_AR6_GARCH37_t.summary()"
   ]
  },
  {
   "cell_type": "code",
   "execution_count": null,
   "id": "98156c8a-8d92-482d-b8f2-1b3fcc8eca17",
   "metadata": {
    "scrolled": true
   },
   "outputs": [],
   "source": [
    "# Using Normal Distribution\n",
    "res_AR6_GARCH37_n = arch_model(r, mean='AR',lags=6, vol='GARCH',p=3,q=7,dist='Normal').fit(disp=\"off\")\n",
    "res_AR6_GARCH37_n.summary()"
   ]
  },
  {
   "cell_type": "code",
   "execution_count": null,
   "id": "4bcd5e52-f496-43bf-9646-dd97be8aedc7",
   "metadata": {},
   "outputs": [],
   "source": [
    "pd.DataFrame([[res_AR6_GARCH37_n.aic,res_AR6_GARCH37_t.aic],\n",
    "               [res_AR6_GARCH37_n.bic,res_AR6_GARCH37_t.bic]],\n",
    "             index = ['AIC', 'BIC'],\n",
    "             columns = ['Gaussian', 'StudentT']).round(1)"
   ]
  },
  {
   "cell_type": "markdown",
   "id": "06d34ff3-862f-4452-bce3-0f6dcaf654b4",
   "metadata": {},
   "source": [
    "AIC 和 BIC 的数值在学生T分布下都比较小，所以选择它"
   ]
  },
  {
   "cell_type": "code",
   "execution_count": null,
   "id": "10017bec-deb2-4582-8265-1a168da38253",
   "metadata": {},
   "outputs": [],
   "source": [
    "# 检验模型 with Normal distribution的标准化残差是否服从正态分布\n",
    "\n",
    "stdresid_normal = res_AR6_GARCH37_n.std_resid.dropna()\n",
    "qq_norm = sm.qqplot(stdresid_normal,line='45') #将残差的分位数与标准正态分布进行比较\n",
    "jb_norm = jarque_bera(stdresid_normal) #Jarque-Bera Test检查标准化残差是否服从正态分布\n",
    "print(jb_norm)"
   ]
  },
  {
   "cell_type": "markdown",
   "id": "b5f85de0-d3f4-492a-950c-8deca20a2f15",
   "metadata": {},
   "source": [
    "#### Conclusion: \n",
    "- JB statistic（841.92）很大\n",
    "- p-value 非常小（1.5e-183) < 0.05\n",
    "- 拒绝原假设（H₀: 残差服从正态分布）\n",
    "- 模型残差不服从正态，可能存在厚尾或偏态"
   ]
  },
  {
   "cell_type": "code",
   "execution_count": null,
   "id": "23caafcc-b88a-4212-bf2a-343fc1e0ab95",
   "metadata": {},
   "outputs": [],
   "source": [
    "# 检验模型 with Student T distribution 的标准化残差是否服从正态分布\n",
    "\n",
    "df = res_AR6_GARCH37_t.params['nu']  #获取该 t 分布的自由度\n",
    "stdresid_t = res_AR6_GARCH37_t.std_resid.dropna() #提取 Student-t 分布 GARCH 模型的标准化残差\n",
    "\n",
    "#将 t 分布标准化 使其具有单位方差\n",
    "stdresid_t_unif = stats.t.cdf(np.sqrt(df / (df - 2)) * stdresid_t, df) \n",
    "stdresid_t_trans = stats.norm.ppf(stdresid_t_unif) #将上面均匀分布变量反向变换为标准正态分布\n",
    "qq_t = sm.qqplot(stdresid_t_trans,line='45')"
   ]
  },
  {
   "cell_type": "code",
   "execution_count": null,
   "id": "f3cde5f8-911e-4bd7-8bc7-4906aca68690",
   "metadata": {},
   "outputs": [],
   "source": [
    "jb_t = jarque_bera(stdresid_t_trans)\n",
    "print(jb_t)"
   ]
  },
  {
   "cell_type": "markdown",
   "id": "59554b01-fa85-4c94-af48-6b67f4afa97b",
   "metadata": {},
   "source": [
    "#### Conclusion: \n",
    "- Student-t 模型虽然比 Gaussian 好，但它仍未能完美拟合残差的正态性\n",
    "- 确定残差不是正态分布"
   ]
  },
  {
   "cell_type": "markdown",
   "id": "98a3b58d-77f0-4e12-9fbd-d93df515050a",
   "metadata": {},
   "source": [
    "# Step 3: Rolling Expanding Window Forecast\n",
    "- 用一段历史数据训练模型，预测“下一天”，然后窗口向前滚动一格，重复这个过程\n",
    "- 用历史滑动窗口不断预测“下一天”，模拟真实预测，评估模型是否稳定有效的方法\n",
    "- 对每一天都用过去的数据训练模型，并预测 未来一天的均值、标准差、VaR 和 ES"
   ]
  },
  {
   "cell_type": "markdown",
   "id": "ba753d4e-8cc9-4345-a522-36326023dae2",
   "metadata": {},
   "source": [
    "#### 1) 滑动窗口初始化"
   ]
  },
  {
   "cell_type": "code",
   "execution_count": null,
   "id": "ecb3d856-d939-4dd0-a320-3a9d8a285499",
   "metadata": {},
   "outputs": [],
   "source": [
    "# Total \n",
    "number_all = len (r)\n",
    "\n",
    "# Number of forecast windows\n",
    "number_wind = 500\n",
    "\n",
    "# Size of each window\n",
    "size_wind = number_all - number_wind"
   ]
  },
  {
   "cell_type": "markdown",
   "id": "ed3622bb-b24c-4194-9c39-16aceae9a63d",
   "metadata": {},
   "source": [
    "#### 2) 定义VaR and ES"
   ]
  },
  {
   "cell_type": "code",
   "execution_count": null,
   "id": "b4bd381b-2b59-469b-9e07-fd56086dee5b",
   "metadata": {},
   "outputs": [],
   "source": [
    "# Normal VaR\n",
    "def qn(p):\n",
    "    return stats.norm.ppf(p)  #正态分布的分位函数\n",
    "\n",
    "# Normal Expected Shortfall \n",
    "def esn(p):\n",
    "    ninv = stats.norm.ppf(p)\n",
    "    return - stats.norm.pdf(ninv)/p\n",
    "\n",
    "# StudentsT VaR\n",
    "def qt(p,df):\n",
    "    return stats.t.ppf(p,df) * np.sqrt((df - 2) / df)\n",
    "                        \n",
    "# StudentsT ES\n",
    "def est(p,df):\n",
    "    tinv = stats.t.ppf(p,df)\n",
    "    f = lambda x: stats.t.pdf(x,df)\n",
    "    return -f(tinv) / p * (df + tinv **2) / (df - 1) * np.sqrt((df-2)/df)"
   ]
  },
  {
   "cell_type": "markdown",
   "id": "9b9eb573-faf3-40c6-9d0a-9b00d4b3e736",
   "metadata": {},
   "source": [
    "## **1-step ahead Forecast**"
   ]
  },
  {
   "cell_type": "code",
   "execution_count": null,
   "id": "3e86e36f-7214-4593-aa66-e8ac3c09989a",
   "metadata": {},
   "outputs": [],
   "source": [
    "# ARCH(1)-N\n",
    "farch_mean = pd.Series(index = r[-number_wind:].index, dtype = 'float64')\n",
    "farch_sd = pd.Series(index = r[-number_wind:].index, dtype = 'float64')\n",
    "farch_var1 = pd.Series(index = r[-number_wind:].index, dtype = 'float64')\n",
    "farch_var25 = pd.Series(index = r[-number_wind:].index, dtype = 'float64')\n",
    "farch_es1 = pd.Series(index = r[-number_wind:].index, dtype = 'float64')\n",
    "farch_es25 = pd.Series(index = r[-number_wind:].index, dtype = 'float64')\n",
    "\n",
    "# AR(6)-GARCH(3,7)-T \n",
    "fgarch_mean = pd.Series(index = r[-number_wind:].index, dtype = 'float64')\n",
    "fgarch_sd = pd.Series(index = r[-number_wind:].index, dtype = 'float64')\n",
    "fgarch_var1 = pd.Series(index = r[-number_wind:].index, dtype = 'float64')\n",
    "fgarch_var25 = pd.Series(index = r[-number_wind:].index, dtype = 'float64')\n",
    "fgarch_es1 = pd.Series(index = r[-number_wind:].index, dtype = 'float64')\n",
    "fgarch_es25 = pd.Series(index = r[-number_wind:].index, dtype = 'float64')\n",
    "\n",
    "# Store the value of degree of freedom as we use t-distribution \n",
    "fgarch_df = pd.Series(index = r[-number_wind:].index, dtype = 'float64')\n",
    "\n",
    "# Expanding Window Forecasting \n",
    "for i in tqdm(range(number_wind)): \n",
    "    train = r[:(size_wind+i+1)]\n",
    "\n",
    "    #ARCH(1)-N \n",
    "    res_ARCH1_n = arch_model(train, mean = 'Constant', vol = 'ARCH', p=1, q=0, dist='Normal').fit(disp='off')  #Training part\n",
    "    fc_ARCH1_n = res_ARCH1_n.forecast(horizon = 1, reindex = False)    # Forecast part\n",
    "    \n",
    "    # Result \n",
    "    mean = fc_ARCH1_n.mean\n",
    "    sd = np.sqrt(fc_ARCH1_n.variance)\n",
    "\n",
    "    var1 = -(mean + sd *qn(0.01))\n",
    "    var25 = -(mean + sd *qn(0.025))\n",
    "    es1= -(mean + sd *esn(0.01))\n",
    "    es25 = -(mean + sd *esn(0.025))\n",
    "\n",
    "    # Storge \n",
    "    farch_mean[i] = mean.iloc[0,0]\n",
    "    farch_sd[i] = sd.iloc[0,0]\n",
    "    farch_var1[i] = var1.iloc[0,0]\n",
    "    farch_var25[i] = var25.iloc[0,0]\n",
    "    farch_es1[i] = es1.iloc[0,0]\n",
    "    farch_es25[i] = es25.iloc[0,0]\n",
    "\n",
    "    \n",
    "    # AR(6)-GARCH(3,7)-T\n",
    "    res_AR6_GARCH37_t = arch_model(train, mean = 'AR', lags = 6, vol = 'GARCH', p=3, q=7, dist='StudentsT').fit(disp='off')\n",
    "    fc_AR6_GARCH37_t = res_AR6_GARCH37_t.forecast(horizon = 1, reindex = False)  \n",
    " \n",
    "    # Result \n",
    "    mean = fc_AR6_GARCH37_t.mean\n",
    "    sd = np.sqrt(fc_AR6_GARCH37_t.variance)\n",
    "    df = res_AR6_GARCH37_t.params['nu']\n",
    "    \n",
    "    var1 = -(mean + sd * qt(0.01, df))\n",
    "    var25 = -(mean + sd * qt(0.025, df))\n",
    "    es1= -(mean + sd *est(0.01, df))\n",
    "    es25 = -(mean + sd *est(0.025, df))\n",
    "\n",
    "    # Storge \n",
    "    fgarch_mean[i] = mean.iloc[0,0]\n",
    "    fgarch_sd[i] = sd.iloc[0,0]\n",
    "    fgarch_var1[i] = var1.iloc[0,0]\n",
    "    fgarch_var25[i] = var25.iloc[0,0]\n",
    "    fgarch_es1[i] = es1.iloc[0,0]\n",
    "    fgarch_es25[i] = es25.iloc[0,0]\n",
    "\n",
    "    fgarch_df[i] = df"
   ]
  },
  {
   "cell_type": "markdown",
   "id": "9063e9b4-c66a-473b-8e56-8c4e0a5012ee",
   "metadata": {},
   "source": [
    "#### 模型需要用到未来残差（residuals）和波动率，而这些是未知的"
   ]
  },
  {
   "cell_type": "markdown",
   "id": "fb6125cd-e478-4e81-aa72-2b1097c31fca",
   "metadata": {},
   "source": [
    "## **10-step Ahead Forecast**"
   ]
  },
  {
   "cell_type": "code",
   "execution_count": null,
   "id": "705e7237-3014-4b32-8412-28a966569c3f",
   "metadata": {},
   "outputs": [],
   "source": [
    "# ARCH(1)-N \n",
    "farch_mean_h10 = pd.Series(index = r[-number_wind+9:].index, dtype = 'float64')\n",
    "farch_sd_h10 = pd.Series(index = r[-number_wind+9:].index, dtype = 'float64')\n",
    "farch_var1_h10 = pd.Series(index = r[-number_wind+9:].index, dtype = 'float64')\n",
    "farch_var25_h10 = pd.Series(index = r[-number_wind+9:].index, dtype = 'float64')\n",
    "farch_es1_h10 = pd.Series(index = r[-number_wind+9:].index, dtype = 'float64')\n",
    "farch_es25_h10 = pd.Series(index = r[-number_wind+9:].index, dtype = 'float64')\n",
    "\n",
    "# AR(8)-GARCH(3,7)-T\n",
    "fgarch_mean_h10 = pd.Series(index = r[-number_wind+9:].index, dtype = 'float64')\n",
    "fgarch_sd_h10 = pd.Series(index = r[-number_wind+9:].index, dtype = 'float64')\n",
    "fgarch_var1_h10 = pd.Series(index = r[-number_wind+9:].index, dtype = 'float64')\n",
    "fgarch_var25_h10 = pd.Series(index = r[-number_wind+9:].index, dtype = 'float64')\n",
    "fgarch_es1_h10 = pd.Series(index = r[-number_wind+9:].index, dtype = 'float64')\n",
    "fgarch_es25_h10 = pd.Series(index = r[-number_wind+9:].index, dtype = 'float64')\n",
    "\n",
    "# store the value of degree of freedom as we use t-distribution \n",
    "fgarch_df_h10 = pd.Series(index = r[-number_wind+9:].index, dtype = 'float64')\n",
    "\n",
    "\n",
    "# 模拟的次数\n",
    "B = 10000\n",
    "\n",
    "# Expanding Window Forecasting\n",
    "for i in tqdm(range(number_wind-9)): \n",
    "    train = r[:(size_wind+i+1)]\n",
    "\n",
    "    #ARCH(1)-n\n",
    "    res_ARCH1_n = arch_model(train, mean = 'Constant', vol = 'ARCH', p=1, q=0, dist='Normal').fit(disp='off')\n",
    "    fc_ARCH1_n = res_ARCH1_n.forecast(horizon = 10, method = 'simulation', simulations = B, reindex = False)\n",
    "    \n",
    "    # Result \n",
    "    mean = fc_ARCH1_n.mean[['h.10']]\n",
    "    sd = np.sqrt(fc_ARCH1_n.variance[['h.10']])\n",
    "\n",
    "    simvals = fc_ARCH1_n.simulations.values[0,:,9]\n",
    "    var1 = - np.quantile(simvals, 0.01)\n",
    "    var25 = - np.quantile(simvals, 0.025)\n",
    "    es1= - np.mean(simvals[(simvals<=-var1)])\n",
    "    es25 = - np.mean(simvals[(simvals<=-var25)])\n",
    "\n",
    "    # Storge \n",
    "    farch_mean_h10[i] = mean.iloc[0,0]\n",
    "    farch_sd_h10[i] = sd.iloc[0,0]\n",
    "    farch_var1_h10[i] = var1\n",
    "    farch_var25_h10[i] = var25\n",
    "    farch_es1_h10[i] = es1\n",
    "    farch_es25_h10[i] = es25\n",
    "\n",
    "    # AR(6)-GARCH(3,7)-t\n",
    "    res_AR6_GARCH37_t = arch_model(train, mean = 'AR', lags = 6, vol = 'GARCH', p=3, q=7, dist='StudentsT').fit(disp='off')\n",
    "    fc_AR6_GARCH37_t = res_AR6_GARCH37_t.forecast(horizon = 10, method = 'simulation', simulations = B, reindex = False)\n",
    "    \n",
    "    # Result - Sampling from the uncertain distribution and based on the samples to calculate \n",
    "    mean = fc_AR6_GARCH37_t.mean[['h.10']]\n",
    "    sd = np.sqrt(fc_AR6_GARCH37_t.variance[['h.10']])\n",
    "    df = res_AR6_GARCH37_t.params['nu']\n",
    "\n",
    "    simvals = fc_AR6_GARCH37_t.simulations.values[0,:,9] # \n",
    "    var1 = - np.quantile(simvals, 0.01)\n",
    "    var25 = - np.quantile(simvals, 0.025)\n",
    "    es1= - np.mean(simvals[(simvals<=-var1)])\n",
    "    es25 = - np.mean(simvals[(simvals<=-var25)])\n",
    "\n",
    "    # Storge \n",
    "    fgarch_mean_h10[i] = mean.iloc[0,0]\n",
    "    fgarch_sd_h10[i] = sd.iloc[0,0]\n",
    "    fgarch_var1_h10[i] = var1\n",
    "    fgarch_var25_h10[i] = var25\n",
    "    fgarch_es1_h10[i] = es1\n",
    "    fgarch_es25_h10[i] = es25\n",
    "\n",
    "    fgarch_df_h10[i] = df"
   ]
  },
  {
   "cell_type": "markdown",
   "id": "70a50780-1974-47ed-b89e-4dc14c1f4797",
   "metadata": {},
   "source": [
    "## **22-step Ahead Forecast**"
   ]
  },
  {
   "cell_type": "code",
   "execution_count": null,
   "id": "e8e33976-ebec-47f9-83a3-6a4b88a9ed2b",
   "metadata": {},
   "outputs": [],
   "source": [
    "# ARCH(1)- N\n",
    "farch_mean_h22 = pd.Series(index = r[-number_wind+21:].index, dtype = 'float64')\n",
    "farch_sd_h22 = pd.Series(index = r[-number_wind+21:].index, dtype = 'float64')\n",
    "farch_var1_h22 = pd.Series(index = r[-number_wind+21:].index, dtype = 'float64')\n",
    "farch_var25_h22 = pd.Series(index = r[-number_wind+21:].index, dtype = 'float64')\n",
    "farch_es1_h22 = pd.Series(index = r[-number_wind+21:].index, dtype = 'float64')\n",
    "farch_es25_h22 = pd.Series(index = r[-number_wind+21:].index, dtype = 'float64')\n",
    "\n",
    "# AR(6)-GARCH(3,7)- T\n",
    "fgarch_mean_h22 = pd.Series(index = r[-number_wind+21:].index, dtype = 'float64')\n",
    "fgarch_sd_h22 = pd.Series(index = r[-number_wind+21:].index, dtype = 'float64')\n",
    "fgarch_var1_h22 = pd.Series(index = r[-number_wind+21:].index, dtype = 'float64')\n",
    "fgarch_var25_h22 = pd.Series(index = r[-number_wind+21:].index, dtype = 'float64')\n",
    "fgarch_es1_h22 = pd.Series(index = r[-number_wind+21:].index, dtype = 'float64')\n",
    "fgarch_es25_h22 = pd.Series(index = r[-number_wind+21:].index, dtype = 'float64')\n",
    "# store the value of degree of freedom as we use t-distribution \n",
    "fgarch_df_h22 = pd.Series(index = r[-number_wind+21:].index, dtype = 'float64')\n",
    "\n",
    "# 模拟次数\n",
    "B = 10000\n",
    "\n",
    "# Expanding Window\n",
    "for i in tqdm(range(number_wind-21)): \n",
    "    train = r[:(size_wind+i+1)]\n",
    "\n",
    "    #ARCH(1)-n\n",
    "    res_ARCH1_n = arch_model(train, mean = 'Constant', vol = 'ARCH', p=1, q=0, dist='Normal').fit(disp='off')\n",
    "    fc_ARCH1_n = res_ARCH1_n.forecast(horizon = 22, method = 'simulation', simulations = B, reindex = False)\n",
    "    \n",
    "    # Result \n",
    "    mean = fc_ARCH1_n.mean[['h.22']]\n",
    "    sd = np.sqrt(fc_ARCH1_n.variance[['h.22']])\n",
    "\n",
    "    simvals = fc_ARCH1_n.simulations.values[0,:,21]\n",
    "    var1 = - np.quantile(simvals, 0.01)\n",
    "    var25 = - np.quantile(simvals, 0.025)\n",
    "    es1= - np.mean(simvals[(simvals<=-var1)])\n",
    "    es25 = - np.mean(simvals[(simvals<=-var25)])\n",
    "\n",
    "    # Storge \n",
    "    farch_mean_h22[i] = mean.iloc[0,0]\n",
    "    farch_sd_h22[i] = sd.iloc[0,0]\n",
    "    farch_var1_h22[i] = var1\n",
    "    farch_var25_h22[i] = var25\n",
    "    farch_es1_h22[i] = es1\n",
    "    farch_es25_h22[i] = es25\n",
    "    \n",
    "    # AR(6)-GARCH(3,7)-t\n",
    "    res_AR6_GARCH37_t = arch_model(train, mean = 'AR', lags = 6, vol = 'GARCH', p=3, q=7, dist='StudentsT').fit(disp='off')\n",
    "    fc_AR6_GARCH37_t = res_AR6_GARCH37_t.forecast(horizon = 22, method = 'simulation', simulations = B, reindex = False)\n",
    "    \n",
    "    # Result \n",
    "    mean = fc_AR6_GARCH37_t.mean[['h.22']]\n",
    "    sd = np.sqrt(fc_AR6_GARCH37_t.variance[['h.22']])\n",
    "    df = res_AR6_GARCH37_t.params['nu']\n",
    "\n",
    "    simvals = fc_AR6_GARCH37_t.simulations.values[0,:,21]\n",
    "    var1 = - np.quantile(simvals, 0.01)\n",
    "    var25 = - np.quantile(simvals, 0.025)\n",
    "    es1= - np.mean(simvals[(simvals<=-var1)])\n",
    "    es25 = - np.mean(simvals[(simvals<=-var25)])\n",
    "\n",
    "    # Storge \n",
    "    fgarch_mean_h22[i] = mean.iloc[0,0]\n",
    "    fgarch_sd_h22[i] = sd.iloc[0,0]\n",
    "    fgarch_var1_h22[i] = var1\n",
    "    fgarch_var25_h22[i] = var25\n",
    "    fgarch_es1_h22[i] = es1\n",
    "    fgarch_es25_h22[i] = es25\n",
    "\n",
    "    fgarch_df_h22[i] = df"
   ]
  },
  {
   "cell_type": "markdown",
   "id": "f31c48a2-74e5-4f16-9663-9eb2777e8fd8",
   "metadata": {},
   "source": [
    "# Step 4: Validation\n",
    "- 模型预测性能评估（预测值 vs 实际值）"
   ]
  },
  {
   "cell_type": "code",
   "execution_count": null,
   "id": "ea98dc80-b14e-4994-b46e-8dbc4c02ba94",
   "metadata": {},
   "outputs": [],
   "source": [
    "# h = 1 \n",
    "y_val = r[-500:]\n",
    "\n",
    "# plot \n",
    "plt.figure(figsize = (16,10))\n",
    "plt.plot(farch_mean, label = 'ARCH-n')\n",
    "plt.plot(fgarch_mean, label = 'AR-GARCH-t')\n",
    "plt.plot(y_val, label = 'Log Returns')\n",
    "plt.title('Model Forecasts', fontsize=20)\n",
    "plt.legend(fontsize = 20)\n",
    "plt.tight_layout()\n",
    "plt.show()\n",
    "\n",
    "# RMSE\n",
    "rmse_arch_mean = np.sqrt(np.mean((y_val-farch_mean)**2))\n",
    "rmse_garch_mean = np.sqrt(np.mean((y_val-fgarch_mean)**2))"
   ]
  },
  {
   "cell_type": "code",
   "execution_count": null,
   "id": "77ab9590-d542-40fa-825c-5c5c514c6054",
   "metadata": {},
   "outputs": [],
   "source": [
    "# h = 10 \n",
    "y_val = r[-491:]\n",
    "\n",
    "# RMSE\n",
    "rmse_arch_mean_h10 = np.sqrt(np.mean((y_val-farch_mean_h10)**2))\n",
    "rmse_garch_mean_h10 = np.sqrt(np.mean((y_val-fgarch_mean_h10)**2))\n",
    "\n",
    "# h = 22\n",
    "y_val = r[-479:]\n",
    "\n",
    "# RMSE\n",
    "rmse_arch_mean_h22 = np.sqrt(np.mean((y_val-farch_mean_h22)**2))\n",
    "rmse_garch_mean_h22 = np.sqrt(np.mean((y_val-fgarch_mean_h22)**2))"
   ]
  },
  {
   "cell_type": "code",
   "execution_count": null,
   "id": "160365a9-8664-4128-a7a1-cf474fa239f2",
   "metadata": {},
   "outputs": [],
   "source": [
    "mdl_name = ['ARCH-n','AR-GARCH-t']\n",
    "horizon = [1,10,22]\n",
    "rmse = [[rmse_arch_mean,rmse_garch_mean],\n",
    "        [rmse_arch_mean_h10,rmse_garch_mean_h10],\n",
    "        [rmse_arch_mean_h22,rmse_garch_mean_h22],]\n",
    "tbl_rmse_mean = pd.DataFrame(rmse, index = horizon, columns = mdl_name)\n",
    "tbl_rmse_mean.index.name = 'Horizon'\n",
    "tbl_rmse_mean.round(4)"
   ]
  },
  {
   "cell_type": "markdown",
   "id": "2ea3ff38-fc27-4ac3-ab4b-7154c2a24843",
   "metadata": {},
   "source": [
    "# Step 5: Calculate VaR"
   ]
  },
  {
   "cell_type": "code",
   "execution_count": null,
   "id": "c84e7219-bc01-4ea8-95a1-2e56bdc7326b",
   "metadata": {},
   "outputs": [],
   "source": [
    "#用于判断模型的超出次数是否符合理论VaR水平\n",
    "def uctest (viol, a):\n",
    "    n = len(viol)\n",
    "    p = np.sum(viol) / n\n",
    "    z = (p-a) / np.sqrt(a*(1-a)/n)\n",
    "    pval = 2 * stats.norm.sf(np.abs(z))\n",
    "    return pval, p \n",
    "\n",
    "#检测 VaR 超出是否是随机分布的 即有没有连续爆雷\n",
    "def indtest (viol):\n",
    "    try:\n",
    "        n = len(viol)\n",
    "\n",
    "        r5 = viol[1:]\n",
    "        r51 = viol[:-1]\n",
    "        i11 = r5*r51\n",
    "        i01 = r5*(1-r51)\n",
    "        i10=(1-r5)*r51\n",
    "        i00 = (1-r5)*(1-r51)\n",
    "\n",
    "        t00 = np.sum(i00)\n",
    "        t01 = np.sum(i01)\n",
    "        t10 = np.sum(i10)\n",
    "        t11 = np.sum(i11)\n",
    "        p01 = t01 / (t00+t01)\n",
    "        p11 = t11 / (t10+t11)\n",
    "        p1 = (t01+t11)/n \n",
    "        ll1 = t00 * np.log(1-p01) + (p01>0)*t01*np.log(p01)+t10*np.log(1-p11)\n",
    "        if p11 > 0:\n",
    "            ll1 = ll1 + t11 * np.log(p11)\n",
    "        \n",
    "        ll0 = (t10+t00)*np.log(1-p1)+(t01+t11)*np.log(p1)\n",
    "        lrid=2*(ll1 - ll0)\n",
    "        pcc = 1-stats.chi2.cdf(lrid,1)\n",
    "    except:\n",
    "        pcc = np.nan\n",
    "        lrid = np.nan\n",
    "    return pcc, lrid\n",
    "\n",
    "# 模型是否能及时更新VaR水平来反应市场变化\n",
    "def dqtest(y, var, a, lag):\n",
    "    n = len(y)\n",
    "    hits = ((-y > var) * 1)  \n",
    "    q = 2 + lag\n",
    "\n",
    "    if np.sum(hits) > 0:  \n",
    "        ns = n - lag\n",
    "        xmat = np.column_stack([np.ones((ns, 1)), var[lag:n]])\n",
    "        for k in range(1, lag + 1):\n",
    "            lk = lag - k\n",
    "            xmat = np.column_stack([xmat, hits[lk:n-k]])\n",
    "\n",
    "        hx = np.dot(hits[lag:], xmat)\n",
    "        xtx = np.linalg.lstsq(np.matmul(xmat.T, xmat), np.eye(q), rcond=None)[0]\n",
    "        \n",
    "        \n",
    "        dq = np.dot(hx, np.dot(xtx, hx.T))\n",
    "        dq = dq / (a * (1 - a))  \n",
    "        pdq = 1 - stats.chi2.cdf(dq, q)\n",
    "    else:\n",
    "        pdq = np.nan\n",
    "        dq = np.nan\n",
    "    return pdq, dq\n",
    "\n",
    "\n",
    "# Pinball Loss Function 用于比较两个VaR模型在预测准确性上的综合表现\n",
    "def qloss(q, r, p):\n",
    "    q = - np.array(q)\n",
    "    x1 = r[r > q]\n",
    "    x2 = r[r < q]\n",
    "    f1 = q[r > q]\n",
    "    f2 = q[r < q]\n",
    "    l = p * np.sum(x1-f1) + (1-p) * np.sum(f2-x2)\n",
    "    return l\n",
    "\n",
    "# Accuracy checks for VaR \n",
    "def check_var_fc(var_fc, r, p):\n",
    "    viol = -r > var_fc  # 检查是否超出VaR\n",
    "    n_viol = np.sum(viol) #统计爆雷次数\n",
    "    pval_uc, p_hat = uctest(viol, p) #是否符合理论比例\n",
    "    pval_ind = indtest(viol)[0] #是否随机爆雷\n",
    "    pval_dq = dqtest(r, var_fc, p, 4)[0] #模型是否能随着市场波动动态调整VaR预测值\n",
    "    qtl_loss = qloss(var_fc, r, p)  #计算 VaR 模型整体误差, 预测值离实际损失有多远\n",
    "    return [n_viol, p_hat, pval_uc, pval_ind, pval_dq, qtl_loss]"
   ]
  },
  {
   "cell_type": "markdown",
   "id": "5772bd9e-e10b-4a4c-9315-10e5d9054dde",
   "metadata": {},
   "source": [
    "## **1) 1-step ahead**  \n",
    "- **1% VaR** "
   ]
  },
  {
   "cell_type": "code",
   "execution_count": null,
   "id": "edfca74b-aa85-42d4-bde4-92bcad5dd9f8",
   "metadata": {},
   "outputs": [],
   "source": [
    "# plot \n",
    "plt.figure(figsize = (10,6))\n",
    "plt.plot(r[-500:], 'm-', alpha = 0.2, label ='Log Returns')\n",
    "plt.plot(-farch_var1, 'r', label = 'ARCH') # negative sign just for revieing the graph \n",
    "plt.plot(-fgarch_var1, 'k', label = 'GARCH')\n",
    "\n",
    "plt.title('1% VaR')\n",
    "plt.legend()\n",
    "plt.show()"
   ]
  },
  {
   "cell_type": "code",
   "execution_count": null,
   "id": "e4101796-9075-4724-a626-c92b8f51a6c8",
   "metadata": {},
   "outputs": [],
   "source": [
    "# violations \n",
    "plt.figure(figsize = (10, 6))\n",
    "plt.plot(r[-500:],'m-', alpha = 0.2, label = 'Log Returns')\n",
    "\n",
    "plt.plot(r[-500:][r[-500:] < -farch_var1],'^', mfc = 'none', label = 'ARCH-n')\n",
    "plt.plot(r[-500:][r[-500:] < -farch_var1],'ko', mfc = 'none', label = 'AR-GARCH-t')\n",
    "\n",
    "plt.legend()\n",
    "plt.title('1% VaR violations')\n",
    "plt.show()"
   ]
  },
  {
   "cell_type": "markdown",
   "id": "3bfbc7cc-6fbc-46c2-875e-d0de530a2d1a",
   "metadata": {},
   "source": [
    "##### Conclusion: Using 1% VaR, we can see nothing violated under the two models, which means that this risk management strategy is too conservative. The advantage of this conservative strategy is that it's not easy to have financial crisis, but the disadvantage is preparing too much cash for extreme events happened. "
   ]
  },
  {
   "cell_type": "code",
   "execution_count": null,
   "id": "de9b2ef3-0b64-453e-bb20-3d43bcedbe0c",
   "metadata": {},
   "outputs": [],
   "source": [
    "# Forecast accuracy checks \n",
    "tbl_var1 = pd.DataFrame({\n",
    "    'ARCH-n': check_var_fc(farch_var1, r[-500:], 0.01),\n",
    "    'AR-GARCH-t': check_var_fc(fgarch_var1, r[-500:],0.01)},\n",
    "     index = ['Viol.(5)','$\\hat{p}$', 'UC','Ind','DQ','Q Loss']).T\n",
    "tbl_var1.insert(0, 'Horizon', [1,1])\n",
    "tbl_var1.round(4)\n",
    "    "
   ]
  },
  {
   "cell_type": "markdown",
   "id": "a4c27eac-4cf4-4f17-8554-369de176efa3",
   "metadata": {},
   "source": [
    "##### Comment: Both models fail the unconditional coverage test(p-value < 0.05). If these VaR forecasts are used, too much cash will be held against risky assets that could better invested elsewhere. With no violation, independence and DQ test are useless, but based on the Q Loss, we can see that AR-GARCH model is smaller than ARCH model, which means it's better than ARCH."
   ]
  },
  {
   "cell_type": "markdown",
   "id": "563b1d3d-8972-4bd0-890c-88b712fe82e7",
   "metadata": {},
   "source": [
    "## **2.5% VaR** "
   ]
  },
  {
   "cell_type": "code",
   "execution_count": null,
   "id": "698d5ba6-cb2b-4571-a994-7a49f504a126",
   "metadata": {},
   "outputs": [],
   "source": [
    "# plot \n",
    "plt.figure(figsize = (10,6))\n",
    "plt.plot(r[-500:], 'm-', alpha = 0.2, label ='Log Returns')\n",
    "plt.plot(-farch_var25, 'r', label = 'ARCH') \n",
    "plt.plot(-fgarch_var25, 'k', label = 'GARCH')\n",
    "\n",
    "plt.title('2.5% VaRs')\n",
    "plt.legend()\n",
    "plt.show()"
   ]
  },
  {
   "cell_type": "code",
   "execution_count": null,
   "id": "c6b50373-cd5a-48a4-a68e-9940f50cacd6",
   "metadata": {},
   "outputs": [],
   "source": [
    "# VaR violations \n",
    "plt.figure(figsize = (10, 6))\n",
    "plt.plot(r[-500:],'m-', alpha = 0.2, label = 'Log Returns')\n",
    "\n",
    "plt.plot(r[-500:][r[-500:] < -farch_var25], 'v', color='blue', label='ARCH-n')  \n",
    "plt.plot(r[-500:][r[-500:] < -fgarch_var25], 'o', color='green', label='AR-GARCH-t')\n",
    "\n",
    "\n",
    "plt.legend()\n",
    "plt.title('2.5% VaR violations')\n",
    "plt.show()"
   ]
  },
  {
   "cell_type": "markdown",
   "id": "c6473d32-6651-4705-ba38-c6d920c42c08",
   "metadata": {},
   "source": [
    "#### 对冲会计中，也可以用类似结构。模型触发“对冲状态”，自动生成会计凭证模板 比如对冲准备金、FVTOCI项变动等"
   ]
  },
  {
   "cell_type": "code",
   "execution_count": null,
   "id": "82ed4ff4-3096-4db0-bf20-0fe0080cddbe",
   "metadata": {},
   "outputs": [],
   "source": [
    "# forecast accuracy checks \n",
    "tbl_var25 = pd.DataFrame({\n",
    "    'ARCH-n': check_var_fc(farch_var25, r[-500:], 0.025),\n",
    "    'AR-GARCH-t': check_var_fc(fgarch_var25, r[-500:],0.025)},\n",
    "     index = ['Viol.(12.5)','$\\hat{p}$', 'UC','Ind','DQ','Q Loss']).T\n",
    "tbl_var25.insert(0, 'Horizon', [1,1])\n",
    "tbl_var25.round(4)\n",
    "    "
   ]
  },
  {
   "cell_type": "markdown",
   "id": "b1aa0323-79a4-464d-88e2-fdc312b610fd",
   "metadata": {},
   "source": [
    "##### The ARCH model with normal errors leads to VaR forecasts that have a low size 0 violations. It fails the unconditional coverage test (p - value < 0.05). If these VaR forcasts are used, too much cash will be held against risky assets that could better invested elsewhere. Additionally, the ARCH model doesn't pass the DQ test, suggesting that there is sufficient evidence to conclude that VaR forecasts are dependent. \n",
    "\n",
    "##### The AR-GARCH model with t errors also has a size 0.2% violations which is also significantly different from the target 5%. Besides, it doesn't pass the DQ test which indicates dependency of VaR forecasts, there is ten violations. \n"
   ]
  },
  {
   "cell_type": "markdown",
   "id": "7e37ca73-df96-4395-b09c-1a5d68e50162",
   "metadata": {},
   "source": [
    "## **2)10-step ahead**  \n",
    "- 1% VaR "
   ]
  },
  {
   "cell_type": "code",
   "execution_count": null,
   "id": "d5a1e8ed-bcae-4e09-9fca-273ec2982faf",
   "metadata": {},
   "outputs": [],
   "source": [
    "# plot \n",
    "plt.figure(figsize = (10,6))\n",
    "plt.plot(r[-491:], 'm-', alpha = 0.2, label ='Log Returns')\n",
    "plt.plot(-farch_var1_h10, 'r', label = 'ARCH') # negative sign just for revieing the graph \n",
    "plt.plot(-fgarch_var1_h10, 'k', label = 'GARCH')\n",
    "\n",
    "plt.title('1% VaR')\n",
    "plt.legend()\n",
    "plt.show()"
   ]
  },
  {
   "cell_type": "code",
   "execution_count": null,
   "id": "d3fe1a38-31f0-489c-9926-b6d178e11fa2",
   "metadata": {},
   "outputs": [],
   "source": [
    "# violations \n",
    "plt.figure(figsize = (10, 6))\n",
    "plt.plot(r[-491:],'m-', alpha = 0.2, label = 'Log Returns')\n",
    "\n",
    "plt.plot(r[-491:][r[-491:] < -farch_var1_h10], 'v', color='blue', label='ARCH-n')  \n",
    "plt.plot(r[-491:][r[-491:] < -fgarch_var1_h10], 'o', color='green', label='AR-GARCH-t')\n",
    "\n",
    "plt.legend()\n",
    "plt.title('1% VaR violations')\n",
    "plt.show()"
   ]
  },
  {
   "cell_type": "code",
   "execution_count": null,
   "id": "b3a241be-41bb-45eb-98b1-7803325594b9",
   "metadata": {},
   "outputs": [],
   "source": [
    "# forecast accuracy checks \n",
    "tbl_var1_h10 = pd.DataFrame({\n",
    "    'ARCH-n': check_var_fc(farch_var1_h10, r[-491:], 0.01),\n",
    "    'AR-GARCH-t': check_var_fc(fgarch_var1_h10, r[-491:],0.01)},\n",
    "     index = ['Viol.(5)','$\\hat{p}$', 'UC','Ind','DQ','Q Loss']).T\n",
    "tbl_var1_h10.insert(0, 'Horizon', [10,10])\n",
    "tbl_var1_h10.round(4)"
   ]
  },
  {
   "cell_type": "markdown",
   "id": "53b6ab75-ea78-4d82-b054-2efa9ef96bf2",
   "metadata": {},
   "source": [
    "- 2.5% VaR"
   ]
  },
  {
   "cell_type": "code",
   "execution_count": null,
   "id": "8bfe51d3-25a9-4aba-ab74-2d917b68edc4",
   "metadata": {},
   "outputs": [],
   "source": [
    "# plot \n",
    "plt.figure(figsize = (10,6))\n",
    "plt.plot(r[-491:], 'm-', alpha = 0.2, label ='Log Returns')\n",
    "plt.plot(-farch_var25_h10, 'r', label = 'ARCH') \n",
    "plt.plot(-fgarch_var25_h10, 'k', label = 'GARCH')\n",
    "\n",
    "plt.title('2.5% VaRs')\n",
    "plt.legend()\n",
    "plt.show()"
   ]
  },
  {
   "cell_type": "code",
   "execution_count": null,
   "id": "08d2226b-5785-4762-ab18-bd233fe048c2",
   "metadata": {},
   "outputs": [],
   "source": [
    "# violations \n",
    "plt.figure(figsize = (10, 6))\n",
    "plt.plot(r[-491:],'m-', alpha = 0.2, label = 'Log Returns')\n",
    "\n",
    "plt.plot(r[-491:][r[-491:] < -farch_var25_h10], 'v', color='blue', label='ARCH-n')  \n",
    "plt.plot(r[-491:][r[-491:] < -fgarch_var25_h10], 'o', color='green', label='AR-GARCH-t')\n",
    "\n",
    "plt.legend()\n",
    "plt.title('2.5% VaR violations')\n",
    "plt.show()"
   ]
  },
  {
   "cell_type": "code",
   "execution_count": null,
   "id": "2c470612-c4a1-4888-84ab-dab62ef6eb08",
   "metadata": {},
   "outputs": [],
   "source": [
    "# forecast accuracy checks \n",
    "tbl_var25_h10 = pd.DataFrame({\n",
    "    'ARCH-n': check_var_fc(farch_var25_h10, r[-491:], 0.025),\n",
    "    'AR-GARCH-t': check_var_fc(fgarch_var25_h10, r[-491:],0.025)},\n",
    "     index = ['Viol.(12.5)','$\\hat{p}$', 'UC','Ind','DQ','Q Loss']).T\n",
    "tbl_var25_h10.insert(0, 'Horizon', [10,10])\n",
    "tbl_var25_h10.round(4)"
   ]
  },
  {
   "cell_type": "markdown",
   "id": "4b4c65ba-7685-4f08-8a27-e40c6a2a8977",
   "metadata": {},
   "source": [
    "## **3) 22-steps ahead**  \n",
    "- 1% VaR "
   ]
  },
  {
   "cell_type": "code",
   "execution_count": null,
   "id": "cedcfa04-51b2-424c-836e-389923e06815",
   "metadata": {},
   "outputs": [],
   "source": [
    "# plot \n",
    "plt.figure(figsize = (10,6))\n",
    "plt.plot(r[-479:], 'm-', alpha = 0.2, label ='Log Returns')\n",
    "plt.plot(-farch_var1_h22, 'r', label = 'ARCH') \n",
    "plt.plot(-fgarch_var1_h22, 'k', label = 'GARCH')\n",
    "\n",
    "plt.title('1% VaRs')\n",
    "plt.legend()\n",
    "plt.show()"
   ]
  },
  {
   "cell_type": "code",
   "execution_count": null,
   "id": "ae9a216e-315b-4bf9-b995-fbacb4b2d8c0",
   "metadata": {},
   "outputs": [],
   "source": [
    "# violations \n",
    "plt.figure(figsize = (10, 6))\n",
    "plt.plot(r[-479:],'m-', alpha = 0.2, label = 'Log Returns')\n",
    "\n",
    "plt.plot(r[-479:][r[-479:] < -farch_var1_h22], 'v', color='blue', label='ARCH-n')  \n",
    "plt.plot(r[-479:][r[-479:] < -fgarch_var1_h22], 'o', color='green', label='AR-GARCH-t')\n",
    "\n",
    "plt.legend()\n",
    "plt.title('1% VaR violations')\n",
    "plt.show()"
   ]
  },
  {
   "cell_type": "code",
   "execution_count": null,
   "id": "bad8f0c6-0787-4290-a01c-2c862aefeedd",
   "metadata": {},
   "outputs": [],
   "source": [
    "# forecast accuracy checks \n",
    "tbl_var1_h22 = pd.DataFrame({\n",
    "    'ARCH-n': check_var_fc(farch_var1_h22, r[-479:], 0.01),\n",
    "    'AR-GARCH-t': check_var_fc(fgarch_var1_h22, r[-479:],0.01)},\n",
    "     index = ['Viol.(5)','$\\hat{p}$', 'UC','Ind','DQ','Q Loss']).T\n",
    "tbl_var1_h22.insert(0, 'Horizon', [22,22])\n",
    "tbl_var1_h22.round(4)\n",
    "    "
   ]
  },
  {
   "cell_type": "markdown",
   "id": "23fba7cb-4911-4934-96cf-deceb23f533d",
   "metadata": {},
   "source": [
    "- 2.5% VaR "
   ]
  },
  {
   "cell_type": "code",
   "execution_count": null,
   "id": "bf08ceb1-74ef-48e7-87f2-7c6c7936f489",
   "metadata": {},
   "outputs": [],
   "source": [
    "# plot \n",
    "plt.figure(figsize = (10,6))\n",
    "plt.plot(r[-479:], 'm-', alpha = 0.2, label ='Log Returns')\n",
    "plt.plot(-farch_var25_h22, 'r', label = 'ARCH') \n",
    "plt.plot(-fgarch_var25_h22, 'k', label = 'GARCH')\n",
    "\n",
    "plt.title('2.5% VaRs')\n",
    "plt.legend()\n",
    "plt.show()"
   ]
  },
  {
   "cell_type": "code",
   "execution_count": null,
   "id": "f6e540a9-b6e7-49ca-aa99-51a2e9ff99ce",
   "metadata": {},
   "outputs": [],
   "source": [
    "# violations \n",
    "plt.figure(figsize = (10, 6))\n",
    "plt.plot(r[-479:],'m-', alpha = 0.2, label = 'Log Returns')\n",
    "\n",
    "plt.plot(r[-479:][r[-479:] < -farch_var25_h22], 'v', color='blue', label='ARCH-n')  \n",
    "plt.plot(r[-479:][r[-479:] < -fgarch_var25_h22], 'o', color='green', label='AR-GARCH-t')\n",
    "\n",
    "plt.legend()\n",
    "plt.title('2.5% VaR violations')\n",
    "plt.show()"
   ]
  },
  {
   "cell_type": "code",
   "execution_count": null,
   "id": "7906444a-19ef-4034-a705-958d3f8c3438",
   "metadata": {},
   "outputs": [],
   "source": [
    "# forecast accuracy checks \n",
    "tbl_var25_h22 = pd.DataFrame({\n",
    "    'ARCH-n': check_var_fc(farch_var25_h22, r[-479:], 0.025),\n",
    "    'AR-GARCH-t': check_var_fc(fgarch_var25_h22, r[-479:],0.025)},\n",
    "     index = ['Viol.(12.5)','$\\hat{p}$', 'UC','Ind','DQ','Q Loss']).T\n",
    "tbl_var25_h22.insert(0, 'Horizon', [22,22])\n",
    "tbl_var25_h22.round(4)"
   ]
  },
  {
   "cell_type": "code",
   "execution_count": null,
   "id": "c9287adb-f3fa-43e5-941a-d8682c414b8c",
   "metadata": {},
   "outputs": [],
   "source": [
    "# Summary for 1% VaR forecast\n",
    "\n",
    "tbl_var1_all = pd.concat([tbl_var1, tbl_var1_h10,tbl_var1_h22])\n",
    "tbl_var1_all.reset_index(names=['Module'], inplace=True)\n",
    "tbl_var1_all = tbl_var1_all.groupby(['Horizon','Module']).mean()\n",
    "tbl_var1_all.round(4)"
   ]
  },
  {
   "cell_type": "code",
   "execution_count": null,
   "id": "d0be9497-9f40-450b-8096-76a636e76ef4",
   "metadata": {},
   "outputs": [],
   "source": [
    "# Summary for 2.5% VaR forecast\n",
    "\n",
    "tbl_var25_all = pd.concat([tbl_var25, tbl_var25_h10,tbl_var25_h22])\n",
    "tbl_var25_all.reset_index(names=['Module'], inplace=True)\n",
    "tbl_var25_all = tbl_var25_all.groupby(['Horizon','Module']).mean()\n",
    "tbl_var25_all.round(4)"
   ]
  },
  {
   "cell_type": "markdown",
   "id": "f665a883-a478-465c-9c1a-99a801c2fe3b",
   "metadata": {},
   "source": [
    "# Expected Shortfall (ES)"
   ]
  },
  {
   "cell_type": "code",
   "execution_count": null,
   "id": "07a778a8-ac70-4549-b403-f2aaf3fbac75",
   "metadata": {},
   "outputs": [],
   "source": [
    "def jointloss(es,q,r,p):\n",
    "    m = len(r)\n",
    "    q = np.array(q)\n",
    "    es = np.array(es)\n",
    "    i1 = (r<q).astype(int)\n",
    "    aes = es** (-1)*(p-1)\n",
    "    ees = (r-q) * (p-i1)\n",
    "    l = -np.log(aes)-ees/es/p\n",
    "    return l"
   ]
  },
  {
   "cell_type": "markdown",
   "id": "a19bfabf-48cc-42c7-bf54-3cfb76195e72",
   "metadata": {},
   "source": [
    "## **1-step ahead**  \n",
    "- 1% ES "
   ]
  },
  {
   "cell_type": "code",
   "execution_count": null,
   "id": "e9d753c4-25ec-4c8a-88a7-4c746dd715b0",
   "metadata": {},
   "outputs": [],
   "source": [
    "# plot \n",
    "plt.figure(figsize = (10,6))\n",
    "plt.plot(r[-500:], 'm-', alpha = 0.2, label ='Log Returns')\n",
    "plt.plot(-farch_es1, 'r', label = 'ARCH')  \n",
    "plt.plot(-fgarch_es1, 'k', label = 'GARCH')\n",
    "\n",
    "plt.title('1% ES')\n",
    "plt.legend()\n",
    "plt.show()"
   ]
  },
  {
   "cell_type": "code",
   "execution_count": null,
   "id": "a2b07008-d29e-4d6a-aa25-76808d1ae849",
   "metadata": {},
   "outputs": [],
   "source": [
    "fz_arch_1 = jointloss(-farch_es1, -farch_var1, r[-500:],0.01)\n",
    "fz_garch_1 = jointloss(-farch_es1, -fgarch_var1, r[-500:],0.01)\n",
    "\n",
    "print(np.mean(fz_arch_1))\n",
    "print(np.mean(fz_garch_1))"
   ]
  },
  {
   "cell_type": "markdown",
   "id": "41b4140b-3388-41a1-b93a-57708431c0b8",
   "metadata": {},
   "source": [
    "##### Comment: The Fissler Ziegler loss for the GARCH model is slightly lower than the ARCH model, whic implies that the GARCH model is better for 1-day ahead 1% ES forecasting. \n",
    "\n"
   ]
  },
  {
   "cell_type": "markdown",
   "id": "e29c0792-929a-42d5-93df-75586577b7cc",
   "metadata": {},
   "source": [
    "## **2.5% ES** "
   ]
  },
  {
   "cell_type": "code",
   "execution_count": null,
   "id": "7af3046b-0d8a-41c3-b5fb-7fb9d4618897",
   "metadata": {},
   "outputs": [],
   "source": [
    "# plot \n",
    "plt.figure(figsize = (10,6))\n",
    "plt.plot(r[-500:], 'm-', alpha = 0.2, label ='Log Returns')\n",
    "plt.plot(-farch_es25, 'r', label = 'ARCH')  \n",
    "plt.plot(-fgarch_es25, 'k', label = 'GARCH')\n",
    "\n",
    "plt.title('2.5% ES')\n",
    "plt.legend()\n",
    "plt.show()"
   ]
  },
  {
   "cell_type": "code",
   "execution_count": null,
   "id": "8b154ac4-9f31-40f4-a1ff-59c95c11d745",
   "metadata": {},
   "outputs": [],
   "source": [
    "fz_arch_25 = jointloss(-farch_es25, -farch_var25, r[-500:],0.025)\n",
    "fz_garch_25 = jointloss(-farch_es25, -fgarch_var25, r[-500:],0.025)\n",
    "\n",
    "print(np.mean(fz_arch_25))\n",
    "print(np.mean(fz_garch_25))"
   ]
  },
  {
   "cell_type": "markdown",
   "id": "4be568ae-05a2-4319-a04a-41e54688243c",
   "metadata": {},
   "source": [
    "##### Comment: In this case, the Fissler Ziegler loss for the GARCH model is still lower than the ARCH model, whic implies that the GARCH model is still better for 1-day ahead 5% ES forecasting. "
   ]
  },
  {
   "cell_type": "markdown",
   "id": "059ef0e9-9356-40b0-b043-4d9a9e8a68c5",
   "metadata": {},
   "source": [
    "## **10-steps ahead**  \n"
   ]
  },
  {
   "cell_type": "code",
   "execution_count": null,
   "id": "33f3e55f-4698-4d93-8779-7a15a966311f",
   "metadata": {},
   "outputs": [],
   "source": [
    "# 1% ES \n",
    "fz_arch_1_h10 = jointloss(-farch_es1_h10, -farch_var1_h10, r[-491:],0.01)\n",
    "fz_garch_1_h10 = jointloss(-farch_es1_h10, -fgarch_var1_h10, r[-491:],0.01)\n",
    "\n",
    "print(np.mean(fz_arch_1_h10))\n",
    "print(np.mean(fz_garch_1_h10))\n",
    "\n",
    "\n",
    "# 2.5% ES \n",
    "fz_arch_25_h10 = jointloss(-farch_es25_h10, -farch_var25_h10, r[-491:],0.025)\n",
    "fz_garch_25_h10 = jointloss(-farch_es25_h10, -fgarch_var25_h10, r[-491:],0.025)\n",
    "\n",
    "print(np.mean(fz_arch_25_h10))\n",
    "print(np.mean(fz_garch_25_h10))"
   ]
  },
  {
   "cell_type": "markdown",
   "id": "d8d9a7a0-a5fa-4a77-b706-77cc0081e7d5",
   "metadata": {},
   "source": [
    "## **22-steps ahead**  "
   ]
  },
  {
   "cell_type": "code",
   "execution_count": null,
   "id": "ec66fcac-0115-4a1a-8861-a2d051709b06",
   "metadata": {},
   "outputs": [],
   "source": [
    "# 1% ES \n",
    "fz_arch_1_h22 = jointloss(-farch_es1_h22, -farch_var1_h22, r[-479:],0.01)\n",
    "fz_garch_1_h22 = jointloss(-farch_es1_h22, -fgarch_var1_h22, r[-479:],0.01)\n",
    "\n",
    "print(np.mean(fz_arch_1_h22))\n",
    "print(np.mean(fz_garch_1_h22))\n",
    "\n",
    "\n",
    "# 2.5% ES \n",
    "fz_arch_25_h22 = jointloss(-farch_es25_h22, -farch_var25_h22, r[-479:],0.025)\n",
    "fz_garch_25_h22 = jointloss(-farch_es25_h22, -fgarch_var25_h22, r[-479:],0.025)\n",
    "\n",
    "print(np.mean(fz_arch_25_h22))\n",
    "print(np.mean(fz_garch_25_h22))"
   ]
  }
 ],
 "metadata": {
  "kernelspec": {
   "display_name": "Python (Quant_Learning)",
   "language": "python",
   "name": "quant_learning"
  },
  "language_info": {
   "codemirror_mode": {
    "name": "ipython",
    "version": 3
   },
   "file_extension": ".py",
   "mimetype": "text/x-python",
   "name": "python",
   "nbconvert_exporter": "python",
   "pygments_lexer": "ipython3",
   "version": "3.10.18"
  }
 },
 "nbformat": 4,
 "nbformat_minor": 5
}
