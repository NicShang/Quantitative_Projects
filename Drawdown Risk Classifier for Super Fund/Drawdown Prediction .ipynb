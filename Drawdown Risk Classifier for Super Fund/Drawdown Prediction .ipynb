{
 "cells": [
  {
   "cell_type": "code",
   "execution_count": 1,
   "id": "7749a030-f479-4a2a-a693-696bb49079aa",
   "metadata": {},
   "outputs": [
    {
     "name": "stdout",
     "output_type": "stream",
     "text": [
      "Requirement already satisfied: yfinance in /Users/nickshang/anaconda3/envs/test/lib/python3.10/site-packages (0.2.61)\n",
      "Requirement already satisfied: pandas>=1.3.0 in /Users/nickshang/anaconda3/envs/test/lib/python3.10/site-packages (from yfinance) (2.1.4)\n",
      "Requirement already satisfied: numpy>=1.16.5 in /Users/nickshang/anaconda3/envs/test/lib/python3.10/site-packages (from yfinance) (1.26.3)\n",
      "Requirement already satisfied: requests>=2.31 in /Users/nickshang/anaconda3/envs/test/lib/python3.10/site-packages (from yfinance) (2.31.0)\n",
      "Requirement already satisfied: multitasking>=0.0.7 in /Users/nickshang/anaconda3/envs/test/lib/python3.10/site-packages (from yfinance) (0.0.11)\n",
      "Requirement already satisfied: platformdirs>=2.0.0 in /Users/nickshang/anaconda3/envs/test/lib/python3.10/site-packages (from yfinance) (3.10.0)\n",
      "Requirement already satisfied: pytz>=2022.5 in /Users/nickshang/anaconda3/envs/test/lib/python3.10/site-packages (from yfinance) (2023.3.post1)\n",
      "Requirement already satisfied: frozendict>=2.3.4 in /Users/nickshang/anaconda3/envs/test/lib/python3.10/site-packages (from yfinance) (2.4.6)\n",
      "Requirement already satisfied: peewee>=3.16.2 in /Users/nickshang/anaconda3/envs/test/lib/python3.10/site-packages (from yfinance) (3.18.1)\n",
      "Requirement already satisfied: beautifulsoup4>=4.11.1 in /Users/nickshang/anaconda3/envs/test/lib/python3.10/site-packages (from yfinance) (4.12.2)\n",
      "Requirement already satisfied: curl_cffi>=0.7 in /Users/nickshang/anaconda3/envs/test/lib/python3.10/site-packages (from yfinance) (0.11.1)\n",
      "Requirement already satisfied: protobuf>=3.19.0 in /Users/nickshang/anaconda3/envs/test/lib/python3.10/site-packages (from yfinance) (6.31.1)\n",
      "Requirement already satisfied: websockets>=13.0 in /Users/nickshang/anaconda3/envs/test/lib/python3.10/site-packages (from yfinance) (15.0.1)\n",
      "Requirement already satisfied: soupsieve>1.2 in /Users/nickshang/anaconda3/envs/test/lib/python3.10/site-packages (from beautifulsoup4>=4.11.1->yfinance) (2.5)\n",
      "Requirement already satisfied: cffi>=1.12.0 in /Users/nickshang/anaconda3/envs/test/lib/python3.10/site-packages (from curl_cffi>=0.7->yfinance) (1.16.0)\n",
      "Requirement already satisfied: certifi>=2024.2.2 in /Users/nickshang/anaconda3/envs/test/lib/python3.10/site-packages (from curl_cffi>=0.7->yfinance) (2025.4.26)\n",
      "Requirement already satisfied: python-dateutil>=2.8.2 in /Users/nickshang/anaconda3/envs/test/lib/python3.10/site-packages (from pandas>=1.3.0->yfinance) (2.8.2)\n",
      "Requirement already satisfied: tzdata>=2022.1 in /Users/nickshang/anaconda3/envs/test/lib/python3.10/site-packages (from pandas>=1.3.0->yfinance) (2023.3)\n",
      "Requirement already satisfied: charset-normalizer<4,>=2 in /Users/nickshang/anaconda3/envs/test/lib/python3.10/site-packages (from requests>=2.31->yfinance) (2.0.4)\n",
      "Requirement already satisfied: idna<4,>=2.5 in /Users/nickshang/anaconda3/envs/test/lib/python3.10/site-packages (from requests>=2.31->yfinance) (3.4)\n",
      "Requirement already satisfied: urllib3<3,>=1.21.1 in /Users/nickshang/anaconda3/envs/test/lib/python3.10/site-packages (from requests>=2.31->yfinance) (2.1.0)\n",
      "Requirement already satisfied: pycparser in /Users/nickshang/anaconda3/envs/test/lib/python3.10/site-packages (from cffi>=1.12.0->curl_cffi>=0.7->yfinance) (2.21)\n",
      "Requirement already satisfied: six>=1.5 in /Users/nickshang/anaconda3/envs/test/lib/python3.10/site-packages (from python-dateutil>=2.8.2->pandas>=1.3.0->yfinance) (1.16.0)\n",
      "Note: you may need to restart the kernel to use updated packages.\n"
     ]
    }
   ],
   "source": [
    "pip install yfinance"
   ]
  },
  {
   "cell_type": "code",
   "execution_count": 2,
   "id": "d69bc87a-88e2-4487-9d28-740880c94c00",
   "metadata": {},
   "outputs": [],
   "source": [
    "import numpy as np\n",
    "import pandas as pd\n",
    "import matplotlib.pyplot as plt\n",
    "import yfinance as yf\n",
    "import datetime\n",
    "\n",
    "from sklearn.pipeline import Pipeline\n",
    "from sklearn.preprocessing import StandardScaler\n",
    "from sklearn.linear_model import LogisticRegression\n",
    "from sklearn.model_selection import train_test_split\n",
    "from sklearn.metrics import classification_report, confusion_matrix, roc_auc_score, RocCurveDisplay\n",
    "from sklearn.metrics import ConfusionMatrixDisplay\n",
    "from sklearn.metrics import accuracy_score"
   ]
  },
  {
   "cell_type": "code",
   "execution_count": 3,
   "id": "43ee138c-40ce-4dff-9e0a-e83ad9580312",
   "metadata": {},
   "outputs": [],
   "source": [
    "# Portfolio weights are based on the Cbus Super “Growth (MySuper)” investment option as published in its 31 December 2024 portfolio disclosure. Asset exposures are mapped to representative ETFs for simulation purposes.\n",
    "portfolio_weights = {\n",
    "    'VAS.AX': 0.22,        # Australian equity\n",
    "    'IVV': 0.25,           # Intl developed equity\n",
    "    'VAF.AX': 0.18,        # Fixed income\n",
    "    'VNQ': 0.07,           # Property\n",
    "    'IFRA': 0.10,          # Infrastructure\n",
    "    'AAA.AX': 0.10,        # Cash\n",
    "    'IEM.AX': 0.08         # Emerging markets\n",
    "}\n"
   ]
  },
  {
   "cell_type": "code",
   "execution_count": 4,
   "id": "22179449-34c2-4ed6-85c9-ad42e75219c7",
   "metadata": {},
   "outputs": [
    {
     "name": "stdout",
     "output_type": "stream",
     "text": [
      "YF.download() has changed argument auto_adjust default to True\n"
     ]
    },
    {
     "data": {
      "text/html": [
       "<div>\n",
       "<style scoped>\n",
       "    .dataframe tbody tr th:only-of-type {\n",
       "        vertical-align: middle;\n",
       "    }\n",
       "\n",
       "    .dataframe tbody tr th {\n",
       "        vertical-align: top;\n",
       "    }\n",
       "\n",
       "    .dataframe thead th {\n",
       "        text-align: right;\n",
       "    }\n",
       "</style>\n",
       "<table border=\"1\" class=\"dataframe\">\n",
       "  <thead>\n",
       "    <tr style=\"text-align: right;\">\n",
       "      <th>Ticker</th>\n",
       "      <th>AAA.AX</th>\n",
       "      <th>IEM.AX</th>\n",
       "      <th>IFRA</th>\n",
       "      <th>IVV</th>\n",
       "      <th>VAF.AX</th>\n",
       "      <th>VAS.AX</th>\n",
       "      <th>VNQ</th>\n",
       "    </tr>\n",
       "    <tr>\n",
       "      <th>Date</th>\n",
       "      <th></th>\n",
       "      <th></th>\n",
       "      <th></th>\n",
       "      <th></th>\n",
       "      <th></th>\n",
       "      <th></th>\n",
       "      <th></th>\n",
       "    </tr>\n",
       "  </thead>\n",
       "  <tbody>\n",
       "    <tr>\n",
       "      <th>2020-06-19</th>\n",
       "      <td>44.317307</td>\n",
       "      <td>53.758430</td>\n",
       "      <td>21.324478</td>\n",
       "      <td>287.708282</td>\n",
       "      <td>47.884918</td>\n",
       "      <td>62.083874</td>\n",
       "      <td>66.175201</td>\n",
       "    </tr>\n",
       "    <tr>\n",
       "      <th>2020-06-22</th>\n",
       "      <td>44.326160</td>\n",
       "      <td>53.776711</td>\n",
       "      <td>21.433140</td>\n",
       "      <td>289.770599</td>\n",
       "      <td>47.866787</td>\n",
       "      <td>62.075672</td>\n",
       "      <td>66.109108</td>\n",
       "    </tr>\n",
       "    <tr>\n",
       "      <th>2020-06-23</th>\n",
       "      <td>44.334995</td>\n",
       "      <td>53.877186</td>\n",
       "      <td>21.378813</td>\n",
       "      <td>290.950287</td>\n",
       "      <td>47.821484</td>\n",
       "      <td>62.141304</td>\n",
       "      <td>65.836441</td>\n",
       "    </tr>\n",
       "    <tr>\n",
       "      <th>2020-06-24</th>\n",
       "      <td>44.334995</td>\n",
       "      <td>54.343063</td>\n",
       "      <td>20.799292</td>\n",
       "      <td>283.602417</td>\n",
       "      <td>47.794292</td>\n",
       "      <td>62.256218</td>\n",
       "      <td>63.960835</td>\n",
       "    </tr>\n",
       "    <tr>\n",
       "      <th>2020-06-25</th>\n",
       "      <td>44.330574</td>\n",
       "      <td>53.676220</td>\n",
       "      <td>20.905235</td>\n",
       "      <td>286.575012</td>\n",
       "      <td>47.857727</td>\n",
       "      <td>60.803627</td>\n",
       "      <td>64.777740</td>\n",
       "    </tr>\n",
       "    <tr>\n",
       "      <th>2020-06-26</th>\n",
       "      <td>44.326160</td>\n",
       "      <td>54.142097</td>\n",
       "      <td>20.527645</td>\n",
       "      <td>279.738068</td>\n",
       "      <td>47.875854</td>\n",
       "      <td>61.640701</td>\n",
       "      <td>63.534416</td>\n",
       "    </tr>\n",
       "    <tr>\n",
       "      <th>2020-06-29</th>\n",
       "      <td>44.334995</td>\n",
       "      <td>53.036781</td>\n",
       "      <td>21.206772</td>\n",
       "      <td>283.936859</td>\n",
       "      <td>47.866787</td>\n",
       "      <td>60.705147</td>\n",
       "      <td>64.761047</td>\n",
       "    </tr>\n",
       "    <tr>\n",
       "      <th>2020-06-30</th>\n",
       "      <td>44.334995</td>\n",
       "      <td>53.877186</td>\n",
       "      <td>21.469362</td>\n",
       "      <td>287.680450</td>\n",
       "      <td>47.866787</td>\n",
       "      <td>61.640701</td>\n",
       "      <td>65.528748</td>\n",
       "    </tr>\n",
       "    <tr>\n",
       "      <th>2020-07-01</th>\n",
       "      <td>44.334515</td>\n",
       "      <td>53.330193</td>\n",
       "      <td>21.287357</td>\n",
       "      <td>289.649780</td>\n",
       "      <td>47.779564</td>\n",
       "      <td>61.917225</td>\n",
       "      <td>67.039078</td>\n",
       "    </tr>\n",
       "    <tr>\n",
       "      <th>2020-07-02</th>\n",
       "      <td>44.343369</td>\n",
       "      <td>54.083126</td>\n",
       "      <td>21.428614</td>\n",
       "      <td>291.173218</td>\n",
       "      <td>47.742870</td>\n",
       "      <td>63.044651</td>\n",
       "      <td>66.847160</td>\n",
       "    </tr>\n",
       "  </tbody>\n",
       "</table>\n",
       "</div>"
      ],
      "text/plain": [
       "Ticker         AAA.AX     IEM.AX       IFRA         IVV     VAF.AX     VAS.AX  \\\n",
       "Date                                                                            \n",
       "2020-06-19  44.317307  53.758430  21.324478  287.708282  47.884918  62.083874   \n",
       "2020-06-22  44.326160  53.776711  21.433140  289.770599  47.866787  62.075672   \n",
       "2020-06-23  44.334995  53.877186  21.378813  290.950287  47.821484  62.141304   \n",
       "2020-06-24  44.334995  54.343063  20.799292  283.602417  47.794292  62.256218   \n",
       "2020-06-25  44.330574  53.676220  20.905235  286.575012  47.857727  60.803627   \n",
       "2020-06-26  44.326160  54.142097  20.527645  279.738068  47.875854  61.640701   \n",
       "2020-06-29  44.334995  53.036781  21.206772  283.936859  47.866787  60.705147   \n",
       "2020-06-30  44.334995  53.877186  21.469362  287.680450  47.866787  61.640701   \n",
       "2020-07-01  44.334515  53.330193  21.287357  289.649780  47.779564  61.917225   \n",
       "2020-07-02  44.343369  54.083126  21.428614  291.173218  47.742870  63.044651   \n",
       "\n",
       "Ticker            VNQ  \n",
       "Date                   \n",
       "2020-06-19  66.175201  \n",
       "2020-06-22  66.109108  \n",
       "2020-06-23  65.836441  \n",
       "2020-06-24  63.960835  \n",
       "2020-06-25  64.777740  \n",
       "2020-06-26  63.534416  \n",
       "2020-06-29  64.761047  \n",
       "2020-06-30  65.528748  \n",
       "2020-07-01  67.039078  \n",
       "2020-07-02  66.847160  "
      ]
     },
     "execution_count": 4,
     "metadata": {},
     "output_type": "execute_result"
    }
   ],
   "source": [
    "# Setup time horizon\n",
    "start_date = \"2020-06-19\"\n",
    "end_date = \"2025-06-18\"\n",
    "\n",
    "tickers = list(portfolio_weights.keys())\n",
    "\n",
    "# Download Data\n",
    "raw_data = yf.download(tickers, start=start_date, end=end_date, progress=False)\n",
    "\n",
    "price_data = raw_data[\"Close\"]\n",
    "price_data.head(10)"
   ]
  },
  {
   "cell_type": "code",
   "execution_count": 5,
   "id": "67abd20a-993c-4e5c-a642-df7444403697",
   "metadata": {},
   "outputs": [
    {
     "name": "stderr",
     "output_type": "stream",
     "text": [
      "/var/folders/dm/6bz8tqrj0y508xhhny9v1f4r0000gn/T/ipykernel_3460/4023545668.py:1: FutureWarning: DataFrame.fillna with 'method' is deprecated and will raise in a future version. Use obj.ffill() or obj.bfill() instead.\n",
      "  price_data.fillna(method='ffill', inplace=True)\n",
      "/var/folders/dm/6bz8tqrj0y508xhhny9v1f4r0000gn/T/ipykernel_3460/4023545668.py:1: SettingWithCopyWarning: \n",
      "A value is trying to be set on a copy of a slice from a DataFrame\n",
      "\n",
      "See the caveats in the documentation: https://pandas.pydata.org/pandas-docs/stable/user_guide/indexing.html#returning-a-view-versus-a-copy\n",
      "  price_data.fillna(method='ffill', inplace=True)\n",
      "/var/folders/dm/6bz8tqrj0y508xhhny9v1f4r0000gn/T/ipykernel_3460/4023545668.py:2: FutureWarning: DataFrame.fillna with 'method' is deprecated and will raise in a future version. Use obj.ffill() or obj.bfill() instead.\n",
      "  price_data.fillna(method='bfill', inplace=True)\n",
      "/var/folders/dm/6bz8tqrj0y508xhhny9v1f4r0000gn/T/ipykernel_3460/4023545668.py:2: SettingWithCopyWarning: \n",
      "A value is trying to be set on a copy of a slice from a DataFrame\n",
      "\n",
      "See the caveats in the documentation: https://pandas.pydata.org/pandas-docs/stable/user_guide/indexing.html#returning-a-view-versus-a-copy\n",
      "  price_data.fillna(method='bfill', inplace=True)\n"
     ]
    }
   ],
   "source": [
    "price_data.fillna(method='ffill', inplace=True)\n",
    "price_data.fillna(method='bfill', inplace=True)"
   ]
  },
  {
   "cell_type": "code",
   "execution_count": 6,
   "id": "69a04844-3d8b-4956-ba99-14a700e1f2a9",
   "metadata": {},
   "outputs": [
    {
     "data": {
      "text/plain": [
       "Date\n",
       "2020-06-19    1.000000\n",
       "2020-06-22    1.002182\n",
       "2020-06-23    1.002895\n",
       "2020-06-24    0.992807\n",
       "2020-06-25    0.990840\n",
       "                ...   \n",
       "2025-06-11    1.622486\n",
       "2025-06-12    1.624794\n",
       "2025-06-13    1.613735\n",
       "2025-06-16    1.619574\n",
       "2025-06-17    1.612654\n",
       "Length: 1290, dtype: float64"
      ]
     },
     "execution_count": 6,
     "metadata": {},
     "output_type": "execute_result"
    }
   ],
   "source": [
    "# NAV for the portfolio\n",
    "normalized_prices = price_data / price_data.iloc[0]\n",
    "weights_series = pd.Series(portfolio_weights)\n",
    "portfolio_nav = normalized_prices.dot(weights_series)\n",
    "portfolio_nav"
   ]
  },
  {
   "cell_type": "code",
   "execution_count": 7,
   "id": "437dfb1c-d084-47dd-8b54-5ba1b71572e6",
   "metadata": {},
   "outputs": [
    {
     "data": {
      "text/html": [
       "<div>\n",
       "<style scoped>\n",
       "    .dataframe tbody tr th:only-of-type {\n",
       "        vertical-align: middle;\n",
       "    }\n",
       "\n",
       "    .dataframe tbody tr th {\n",
       "        vertical-align: top;\n",
       "    }\n",
       "\n",
       "    .dataframe thead th {\n",
       "        text-align: right;\n",
       "    }\n",
       "</style>\n",
       "<table border=\"1\" class=\"dataframe\">\n",
       "  <thead>\n",
       "    <tr style=\"text-align: right;\">\n",
       "      <th></th>\n",
       "      <th>ret_5d</th>\n",
       "      <th>ret_20d</th>\n",
       "      <th>vol_20d</th>\n",
       "      <th>target</th>\n",
       "    </tr>\n",
       "    <tr>\n",
       "      <th>Date</th>\n",
       "      <th></th>\n",
       "      <th></th>\n",
       "      <th></th>\n",
       "      <th></th>\n",
       "    </tr>\n",
       "  </thead>\n",
       "  <tbody>\n",
       "    <tr>\n",
       "      <th>2020-07-17</th>\n",
       "      <td>0.010965</td>\n",
       "      <td>0.020549</td>\n",
       "      <td>0.004994</td>\n",
       "      <td>0</td>\n",
       "    </tr>\n",
       "    <tr>\n",
       "      <th>2020-07-20</th>\n",
       "      <td>0.010058</td>\n",
       "      <td>0.017122</td>\n",
       "      <td>0.005010</td>\n",
       "      <td>0</td>\n",
       "    </tr>\n",
       "    <tr>\n",
       "      <th>2020-07-21</th>\n",
       "      <td>0.018084</td>\n",
       "      <td>0.026532</td>\n",
       "      <td>0.005407</td>\n",
       "      <td>0</td>\n",
       "    </tr>\n",
       "    <tr>\n",
       "      <th>2020-07-22</th>\n",
       "      <td>0.007056</td>\n",
       "      <td>0.035782</td>\n",
       "      <td>0.004746</td>\n",
       "      <td>0</td>\n",
       "    </tr>\n",
       "    <tr>\n",
       "      <th>2020-07-23</th>\n",
       "      <td>0.008541</td>\n",
       "      <td>0.034605</td>\n",
       "      <td>0.004800</td>\n",
       "      <td>0</td>\n",
       "    </tr>\n",
       "    <tr>\n",
       "      <th>...</th>\n",
       "      <td>...</td>\n",
       "      <td>...</td>\n",
       "      <td>...</td>\n",
       "      <td>...</td>\n",
       "    </tr>\n",
       "    <tr>\n",
       "      <th>2025-06-11</th>\n",
       "      <td>0.007912</td>\n",
       "      <td>0.025435</td>\n",
       "      <td>0.004468</td>\n",
       "      <td>0</td>\n",
       "    </tr>\n",
       "    <tr>\n",
       "      <th>2025-06-12</th>\n",
       "      <td>0.010536</td>\n",
       "      <td>0.022366</td>\n",
       "      <td>0.004406</td>\n",
       "      <td>0</td>\n",
       "    </tr>\n",
       "    <tr>\n",
       "      <th>2025-06-13</th>\n",
       "      <td>-0.000344</td>\n",
       "      <td>0.009170</td>\n",
       "      <td>0.004574</td>\n",
       "      <td>0</td>\n",
       "    </tr>\n",
       "    <tr>\n",
       "      <th>2025-06-16</th>\n",
       "      <td>0.002771</td>\n",
       "      <td>0.013617</td>\n",
       "      <td>0.004616</td>\n",
       "      <td>0</td>\n",
       "    </tr>\n",
       "    <tr>\n",
       "      <th>2025-06-17</th>\n",
       "      <td>-0.006477</td>\n",
       "      <td>0.008705</td>\n",
       "      <td>0.004748</td>\n",
       "      <td>0</td>\n",
       "    </tr>\n",
       "  </tbody>\n",
       "</table>\n",
       "<p>1270 rows × 4 columns</p>\n",
       "</div>"
      ],
      "text/plain": [
       "              ret_5d   ret_20d   vol_20d  target\n",
       "Date                                            \n",
       "2020-07-17  0.010965  0.020549  0.004994       0\n",
       "2020-07-20  0.010058  0.017122  0.005010       0\n",
       "2020-07-21  0.018084  0.026532  0.005407       0\n",
       "2020-07-22  0.007056  0.035782  0.004746       0\n",
       "2020-07-23  0.008541  0.034605  0.004800       0\n",
       "...              ...       ...       ...     ...\n",
       "2025-06-11  0.007912  0.025435  0.004468       0\n",
       "2025-06-12  0.010536  0.022366  0.004406       0\n",
       "2025-06-13 -0.000344  0.009170  0.004574       0\n",
       "2025-06-16  0.002771  0.013617  0.004616       0\n",
       "2025-06-17 -0.006477  0.008705  0.004748       0\n",
       "\n",
       "[1270 rows x 4 columns]"
      ]
     },
     "execution_count": 7,
     "metadata": {},
     "output_type": "execute_result"
    }
   ],
   "source": [
    "# Build the maximum drawdown label for the next 20 days\n",
    "forward_days = 20\n",
    "forward_max = portfolio_nav.shift(-forward_days).rolling(forward_days).max()\n",
    "drawdown = (forward_max - portfolio_nav) / forward_max\n",
    "threshold = 0.05\n",
    "y = (drawdown > threshold).astype(int)\n",
    "\n",
    "# Build Features\n",
    "X = pd.DataFrame(index=portfolio_nav.index)\n",
    "X[\"ret_5d\"] = portfolio_nav.pct_change(5)\n",
    "X[\"ret_20d\"] = portfolio_nav.pct_change(20)\n",
    "X[\"vol_20d\"] = portfolio_nav.pct_change().rolling(20).std()\n",
    "\n",
    "# contract the final training dataset\n",
    "df = pd.concat([X, y.rename(\"target\")], axis=1).dropna()\n",
    "df\n"
   ]
  },
  {
   "cell_type": "code",
   "execution_count": 8,
   "id": "2d5c88a7-bf37-417b-8975-2e838f35b7db",
   "metadata": {},
   "outputs": [],
   "source": [
    "X = df[[\"ret_5d\", \"ret_20d\", \"vol_20d\"]]\n",
    "y = df[\"target\"]\n",
    "pd.Series(y).value_counts()\n",
    "\n",
    "# Split the test set and training set\n",
    "X_train, X_test, y_train, y_test = train_test_split(X, y, test_size=0.2, shuffle=False)\n"
   ]
  },
  {
   "cell_type": "code",
   "execution_count": 9,
   "id": "627ed226-175a-45a3-af31-6f40157e3691",
   "metadata": {},
   "outputs": [
    {
     "data": {
      "text/plain": [
       "array([0, 1])"
      ]
     },
     "execution_count": 9,
     "metadata": {},
     "output_type": "execute_result"
    }
   ],
   "source": [
    "# Model Setup\n",
    "base_model = Pipeline([\n",
    "    (\"scaler\", StandardScaler()),\n",
    "    (\"classifier\", LogisticRegression(class_weight=\"balanced\", solver=\"liblinear\"))\n",
    "])\n",
    "\n",
    "# fit the training set\n",
    "base_model.fit(X_train, y_train)\n",
    "\n",
    "# Predicting the test set\n",
    "y_pred = base_model.predict(X_test)\n",
    "y_proba = base_model.predict_proba(X_test)[:, 1] \n",
    "\n",
    "#Verify the class labels\n",
    "base_model.classes_"
   ]
  },
  {
   "cell_type": "code",
   "execution_count": 10,
   "id": "3dcc86e7-a428-42e5-875a-0fc9d4a5afff",
   "metadata": {},
   "outputs": [
    {
     "name": "stdout",
     "output_type": "stream",
     "text": [
      "Train Accuracy:0.7402,Test Accuracy:0.8504\n"
     ]
    }
   ],
   "source": [
    "acc_train = accuracy_score(y_train, base_model.predict(X_train))\n",
    "acc_test = accuracy_score(y_test, y_pred)\n",
    "\n",
    "print (f'Train Accuracy:{acc_train:0.4},Test Accuracy:{acc_test:0.4}')"
   ]
  },
  {
   "cell_type": "code",
   "execution_count": 11,
   "id": "3e4fb126-7b6c-4324-8451-11936e8fa5e8",
   "metadata": {},
   "outputs": [
    {
     "data": {
      "image/png": "[encoded data removed]",
      "text/plain": [
       "<Figure size 640x480 with 2 Axes>"
      ]
     },
     "metadata": {},
     "output_type": "display_data"
    }
   ],
   "source": [
    "# Display confussion matrix\n",
    "ConfusionMatrixDisplay.from_estimator(base_model, X_test, y_test, cmap='Blues')\n",
    "plt.title(\"Confusion Matrix\")\n",
    "plt.show()\n"
   ]
  },
  {
   "cell_type": "code",
   "execution_count": 12,
   "id": "15bf2182-b546-47a5-8183-2a11f943a3f2",
   "metadata": {},
   "outputs": [
    {
     "name": "stdout",
     "output_type": "stream",
     "text": [
      "Classification Report:\n",
      "              precision    recall  f1-score   support\n",
      "\n",
      "           0       1.00      0.84      0.91       237\n",
      "           1       0.31      1.00      0.47        17\n",
      "\n",
      "    accuracy                           0.85       254\n",
      "   macro avg       0.65      0.92      0.69       254\n",
      "weighted avg       0.95      0.85      0.88       254\n",
      "\n",
      "Confusion Matrix:\n",
      "[[199  38]\n",
      " [  0  17]]\n",
      "AUC Score: 0.9875899726979399\n"
     ]
    },
    {
     "data": {
      "image/png": "[encoded data removed]",
      "text/plain": [
       "<Figure size 640x480 with 1 Axes>"
      ]
     },
     "metadata": {},
     "output_type": "display_data"
    }
   ],
   "source": [
    "# Moedel Performence \n",
    "print(\"Classification Report:\")\n",
    "print(classification_report(y_test, y_pred))\n",
    "\n",
    "print(\"Confusion Matrix:\")\n",
    "print(confusion_matrix(y_test, y_pred))\n",
    "\n",
    "print(\"AUC Score:\", roc_auc_score(y_test, y_proba))\n",
    "\n",
    "# Visualize ROC \n",
    "display = RocCurveDisplay.from_estimator(base_model, X_test, y_test, name='Baseline Model')\n",
    "plt.title('AUC-ROC Curve \\n')\n",
    "plt.plot([0, 1], [0, 1], linestyle='--', label='Random 50:50')\n",
    "plt.legend()\n",
    "plt.show()"
   ]
  }
 ],
 "metadata": {
  "kernelspec": {
   "display_name": "Python 3 (ipykernel)",
   "language": "python",
   "name": "python3"
  },
  "language_info": {
   "codemirror_mode": {
    "name": "ipython",
    "version": 3
   },
   "file_extension": ".py",
   "mimetype": "text/x-python",
   "name": "python",
   "nbconvert_exporter": "python",
   "pygments_lexer": "ipython3",
   "version": "3.10.13"
  }
 },
 "nbformat": 4,
 "nbformat_minor": 5
}
