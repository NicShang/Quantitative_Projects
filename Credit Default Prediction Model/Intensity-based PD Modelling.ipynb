{
 "cells": [
  {
   "cell_type": "markdown",
   "id": "eb28def6-cdfa-460c-a331-d69b71ee463f",
   "metadata": {},
   "source": [
    "| 模型             | 理解                         | 用途                                            |\n",
    "| ---------------- | ----------------------------- | ----------------------------------------------- |\n",
    "| **Merton 模型**    | 把公司**违约看作资产价值低于债务**的一次性事件     | **结构性建模（Structural Model）**，基于公司资产负债表           |\n",
    "| **Intensity 模型** | 把违约看作**概率随机发生的事件流**，不关注具体资产价值 | **减少结构假设，直接建“违约率路径”**，灵活适用于市场校准与 stress testing |\n"
   ]
  },
  {
   "cell_type": "code",
   "execution_count": 1,
   "id": "0076e07a-2396-42fb-910c-6d239b6b0c5c",
   "metadata": {},
   "outputs": [],
   "source": [
    "import pandas as pd\n",
    "import numpy as np\n",
    "from scipy.optimize import minimize\n",
    "\n",
    "# Plotting\n",
    "import matplotlib.pyplot as plt\n",
    "from sklearn.metrics import roc_auc_score, roc_curve"
   ]
  },
  {
   "cell_type": "markdown",
   "id": "6f52ad73-6466-4455-94fd-5d44d84be244",
   "metadata": {},
   "source": [
    "## Step 1：Simulating Client Data"
   ]
  },
  {
   "cell_type": "code",
   "execution_count": 2,
   "id": "0e785d52-a60d-4289-b99e-5b1c1c69aea6",
   "metadata": {},
   "outputs": [],
   "source": [
    "def simulate_pd_data(n_samples=1000, beta=[0.5, -0.3], random_state=42):  # x1 = 客户杠杆率 =0.5, x2 = 客户收入增长率\n",
    "    \n",
    "    #确保每次运行都生成相同的数据,否则每次跑出来的 λ 和违约率都不一样\n",
    "    np.random.seed(random_state) \n",
    "\n",
    "    #模拟两列特征变量 X1 和 X2（可以扩展更多特征）\n",
    "    X = np.random.normal(0, 1, size=(n_samples, len(beta)))\n",
    "    \n",
    "    #根据特征变量计算 λ（Poisson 强度）: λ = exp(Xβ)\n",
    "    lambda_ = np.exp(X @ beta)\n",
    "\n",
    "    #设定观察期 T，比如看他未来1.5~3年是否违约\n",
    "    T = np.random.uniform(1.5, 3.0, size=n_samples) \n",
    "\n",
    "    #从指数分布中采样违约时间 τ\n",
    "    U = np.random.uniform(0, 1, size=n_samples)\n",
    "    tau = -np.log(U) / lambda_  # 反函数采样法\n",
    "\n",
    "    #判断是否违约\n",
    "    event = (tau <= T).astype(int)\n",
    "\n",
    "    #整合成 DataFrame\n",
    "    df = pd.DataFrame({\n",
    "        'X1': X[:, 0],\n",
    "        'X2': X[:, 1],\n",
    "        'T': T,\n",
    "        'tau': tau,\n",
    "        'lambda': lambda_,\n",
    "        'event': event\n",
    "    })\n",
    "\n",
    "    return df"
   ]
  },
  {
   "cell_type": "code",
   "execution_count": 3,
   "id": "f629e69f-4e0e-47ec-aa25-952241411242",
   "metadata": {},
   "outputs": [
    {
     "name": "stdout",
     "output_type": "stream",
     "text": [
      "         X1        X2         T       tau    lambda  event\n",
      "0  0.496714 -0.138264  2.110660  0.895025  1.336209      1\n",
      "1  0.647689  1.523030  1.599015  0.655409  0.875408      1\n",
      "2 -0.234153 -0.234137  2.023231  0.228871  0.954244      1\n",
      "3  1.579213  0.767435  1.666497  1.135524  1.749580      1\n",
      "4 -0.469474  0.542560  2.712353  0.808820  0.671994      1\n"
     ]
    }
   ],
   "source": [
    "df = simulate_pd_data()\n",
    "print(df.head())"
   ]
  },
  {
   "cell_type": "markdown",
   "id": "b3eaa1b2-4b15-4044-bc14-271b915eecb0",
   "metadata": {},
   "source": [
    "## Step 2: Define Probability Default(PD) Model"
   ]
  },
  {
   "cell_type": "code",
   "execution_count": 4,
   "id": "46cf480f-e928-47ed-a82d-68645a9499b2",
   "metadata": {},
   "outputs": [],
   "source": [
    "class PoissonPDModel:\n",
    "    def __init__(self, X, T, event):\n",
    "        self.X = X #特征矩阵（n × p）\n",
    "        self.T = T #观察期向量（n × 1）\n",
    "        self.event = event #是否违约（n × 1）\n",
    "\n",
    "    #计算 λ = exp(Xβ)\n",
    "    def _intensity(self, beta):\n",
    "        return np.exp(self.X @ beta)\n",
    "    \n",
    "    #负对数似然函数，用于最小化\n",
    "    def _neg_log_likelihood(self, beta):\n",
    "        lambda_ = self._intensity(beta)   \n",
    "        ll = self.event * np.log(lambda_) - lambda_ * self.T   \n",
    "        return -np.sum(ll)\n",
    "    \n",
    "    #拟合参数 β\n",
    "    def fit(self):\n",
    "        init_beta = np.zeros(self.X.shape[1])  # 初始值设为全0\n",
    "        result = minimize(self._neg_log_likelihood, init_beta)\n",
    "        self.beta_hat = result.x\n",
    "        return self.beta_hat\n",
    "    \n",
    "    #预测 PD 值 = 1 - exp(-λ * T)\n",
    "    def predict_pd(self, X_new, T_new):\n",
    "        lambda_pred = np.exp(X_new @ self.beta_hat)\n",
    "        pd_pred = 1 - np.exp(-lambda_pred * T_new)\n",
    "        return pd_pred"
   ]
  },
  {
   "cell_type": "markdown",
   "id": "f04c6ebe-bf23-4c9d-a097-9d2077955873",
   "metadata": {},
   "source": [
    "## Step 3: Fit the model "
   ]
  },
  {
   "cell_type": "code",
   "execution_count": 5,
   "id": "40b20c65-9b53-441d-8916-cc0e8a850ed7",
   "metadata": {
    "scrolled": true
   },
   "outputs": [
    {
     "name": "stdout",
     "output_type": "stream",
     "text": [
      "Estimated Beta: [ 0.02569331 -0.05420103]\n"
     ]
    },
    {
     "data": {
      "text/html": [
       "<div>\n",
       "<style scoped>\n",
       "    .dataframe tbody tr th:only-of-type {\n",
       "        vertical-align: middle;\n",
       "    }\n",
       "\n",
       "    .dataframe tbody tr th {\n",
       "        vertical-align: top;\n",
       "    }\n",
       "\n",
       "    .dataframe thead th {\n",
       "        text-align: right;\n",
       "    }\n",
       "</style>\n",
       "<table border=\"1\" class=\"dataframe\">\n",
       "  <thead>\n",
       "    <tr style=\"text-align: right;\">\n",
       "      <th></th>\n",
       "      <th>X1</th>\n",
       "      <th>X2</th>\n",
       "      <th>T</th>\n",
       "      <th>tau</th>\n",
       "      <th>lambda</th>\n",
       "      <th>event</th>\n",
       "      <th>PD_pred</th>\n",
       "    </tr>\n",
       "  </thead>\n",
       "  <tbody>\n",
       "    <tr>\n",
       "      <th>0</th>\n",
       "      <td>0.496714</td>\n",
       "      <td>-0.138264</td>\n",
       "      <td>2.110660</td>\n",
       "      <td>0.895025</td>\n",
       "      <td>1.336209</td>\n",
       "      <td>1</td>\n",
       "      <td>0.883963</td>\n",
       "    </tr>\n",
       "    <tr>\n",
       "      <th>1</th>\n",
       "      <td>0.647689</td>\n",
       "      <td>1.523030</td>\n",
       "      <td>1.599015</td>\n",
       "      <td>0.655409</td>\n",
       "      <td>0.875408</td>\n",
       "      <td>1</td>\n",
       "      <td>0.776205</td>\n",
       "    </tr>\n",
       "    <tr>\n",
       "      <th>2</th>\n",
       "      <td>-0.234153</td>\n",
       "      <td>-0.234137</td>\n",
       "      <td>2.023231</td>\n",
       "      <td>0.228871</td>\n",
       "      <td>0.954244</td>\n",
       "      <td>1</td>\n",
       "      <td>0.869552</td>\n",
       "    </tr>\n",
       "    <tr>\n",
       "      <th>3</th>\n",
       "      <td>1.579213</td>\n",
       "      <td>0.767435</td>\n",
       "      <td>1.666497</td>\n",
       "      <td>1.135524</td>\n",
       "      <td>1.749580</td>\n",
       "      <td>1</td>\n",
       "      <td>0.810771</td>\n",
       "    </tr>\n",
       "    <tr>\n",
       "      <th>4</th>\n",
       "      <td>-0.469474</td>\n",
       "      <td>0.542560</td>\n",
       "      <td>2.712353</td>\n",
       "      <td>0.808820</td>\n",
       "      <td>0.671994</td>\n",
       "      <td>1</td>\n",
       "      <td>0.925888</td>\n",
       "    </tr>\n",
       "    <tr>\n",
       "      <th>...</th>\n",
       "      <td>...</td>\n",
       "      <td>...</td>\n",
       "      <td>...</td>\n",
       "      <td>...</td>\n",
       "      <td>...</td>\n",
       "      <td>...</td>\n",
       "      <td>...</td>\n",
       "    </tr>\n",
       "    <tr>\n",
       "      <th>995</th>\n",
       "      <td>0.800410</td>\n",
       "      <td>0.754291</td>\n",
       "      <td>2.013968</td>\n",
       "      <td>1.059957</td>\n",
       "      <td>1.189957</td>\n",
       "      <td>1</td>\n",
       "      <td>0.861025</td>\n",
       "    </tr>\n",
       "    <tr>\n",
       "      <th>996</th>\n",
       "      <td>1.188913</td>\n",
       "      <td>0.708304</td>\n",
       "      <td>2.796988</td>\n",
       "      <td>0.624852</td>\n",
       "      <td>1.465162</td>\n",
       "      <td>1</td>\n",
       "      <td>0.937659</td>\n",
       "    </tr>\n",
       "    <tr>\n",
       "      <th>997</th>\n",
       "      <td>0.351448</td>\n",
       "      <td>1.070150</td>\n",
       "      <td>1.732388</td>\n",
       "      <td>0.241019</td>\n",
       "      <td>0.864745</td>\n",
       "      <td>1</td>\n",
       "      <td>0.807872</td>\n",
       "    </tr>\n",
       "    <tr>\n",
       "      <th>998</th>\n",
       "      <td>-0.026521</td>\n",
       "      <td>-0.881875</td>\n",
       "      <td>1.624105</td>\n",
       "      <td>3.327838</td>\n",
       "      <td>1.285698</td>\n",
       "      <td>0</td>\n",
       "      <td>0.817765</td>\n",
       "    </tr>\n",
       "    <tr>\n",
       "      <th>999</th>\n",
       "      <td>-0.163067</td>\n",
       "      <td>-0.744903</td>\n",
       "      <td>2.226807</td>\n",
       "      <td>0.374609</td>\n",
       "      <td>1.152504</td>\n",
       "      <td>1</td>\n",
       "      <td>0.900625</td>\n",
       "    </tr>\n",
       "  </tbody>\n",
       "</table>\n",
       "<p>1000 rows × 7 columns</p>\n",
       "</div>"
      ],
      "text/plain": [
       "           X1        X2         T       tau    lambda  event   PD_pred\n",
       "0    0.496714 -0.138264  2.110660  0.895025  1.336209      1  0.883963\n",
       "1    0.647689  1.523030  1.599015  0.655409  0.875408      1  0.776205\n",
       "2   -0.234153 -0.234137  2.023231  0.228871  0.954244      1  0.869552\n",
       "3    1.579213  0.767435  1.666497  1.135524  1.749580      1  0.810771\n",
       "4   -0.469474  0.542560  2.712353  0.808820  0.671994      1  0.925888\n",
       "..        ...       ...       ...       ...       ...    ...       ...\n",
       "995  0.800410  0.754291  2.013968  1.059957  1.189957      1  0.861025\n",
       "996  1.188913  0.708304  2.796988  0.624852  1.465162      1  0.937659\n",
       "997  0.351448  1.070150  1.732388  0.241019  0.864745      1  0.807872\n",
       "998 -0.026521 -0.881875  1.624105  3.327838  1.285698      0  0.817765\n",
       "999 -0.163067 -0.744903  2.226807  0.374609  1.152504      1  0.900625\n",
       "\n",
       "[1000 rows x 7 columns]"
      ]
     },
     "execution_count": 5,
     "metadata": {},
     "output_type": "execute_result"
    }
   ],
   "source": [
    "#准备输入变量\n",
    "X = df[['X1', 'X2']].values\n",
    "T = df['T'].values\n",
    "event = df['event'].values\n",
    "\n",
    "#拟合模型\n",
    "model = PoissonPDModel(X, T, event)\n",
    "beta_hat = model.fit()\n",
    "print(\"Estimated Beta:\", beta_hat)\n",
    "\n",
    "# 输出预测的PD\n",
    "df['PD_pred'] = model.predict_pd(X, T)\n",
    "df"
   ]
  },
  {
   "cell_type": "markdown",
   "id": "f2b29522-c3f0-4dd0-ba41-9dec939a426d",
   "metadata": {},
   "source": [
    "| 方法              | 用途                          |\n",
    "| -----  | --------------------------- |\n",
    "| ROC曲线     | 看模型排序能力（AUC 越高越好）           |\n",
    "| KS曲线     | 看模型能否区分违约 vs 非违约人群（KS 越大越好） |\n",
    "| 分箱分析   | 看预测概率与实际违约率是否一致             |\n"
   ]
  },
  {
   "cell_type": "markdown",
   "id": "e25b8ff1-5dbb-43c1-8ae4-5861b3cf1560",
   "metadata": {},
   "source": [
    "## Step 4: Define the ROC Curve, KS Curve, and Bin Chart"
   ]
  },
  {
   "cell_type": "code",
   "execution_count": 6,
   "id": "3723e90e-dcc3-426a-9e15-99777e2ceab6",
   "metadata": {},
   "outputs": [],
   "source": [
    "def plot_roc(y_true, y_score):\n",
    "    fpr, tpr, _ = roc_curve(y_true, y_score)  #fpr = False Postive Rate, tpr = True Postive Rate \n",
    "    auc = roc_auc_score(y_true, y_score)   # AUC = Area Under Curve, 目的是随机抽一个违约客户和一个未违约客户，模型能正确排序的概率\n",
    "\n",
    "    plt.figure()\n",
    "    plt.plot(fpr, tpr, label=f\"AUC = {auc:.2f}\")\n",
    "    plt.plot([0, 1], [0, 1], 'k--')\n",
    "    plt.xlabel(\"False Positive Rate\")\n",
    "    plt.ylabel(\"True Positive Rate\")\n",
    "    plt.title(\"ROC Curve\")\n",
    "    plt.legend()\n",
    "    plt.grid(True)\n",
    "    plt.show()\n",
    "\n",
    "def plot_ks(y_true, y_score, n_bins=10):\n",
    "    df = pd.DataFrame({'score': y_score, 'label': y_true})\n",
    "    df = df.sort_values(by='score', ascending=False)\n",
    "    df['bucket'] = pd.qcut(df['score'], q=n_bins, duplicates='drop')\n",
    "\n",
    "    grouped = df.groupby('bucket', as_index=False, observed=True).agg({\n",
    "        'label': ['count', 'sum']\n",
    "    })\n",
    "    grouped.columns = ['bucket', 'total', 'bad']\n",
    "    grouped['good'] = grouped['total'] - grouped['bad']\n",
    "    grouped['cum_bad'] = grouped['bad'].cumsum()\n",
    "    grouped['cum_good'] = grouped['good'].cumsum()\n",
    "\n",
    "    total_bad = grouped['bad'].sum()\n",
    "    total_good = grouped['good'].sum()\n",
    "\n",
    "    grouped['cum_bad_pct'] = grouped['cum_bad'] / total_bad\n",
    "    grouped['cum_good_pct'] = grouped['cum_good'] / total_good\n",
    "    grouped['ks'] = np.abs(grouped['cum_bad_pct'] - grouped['cum_good_pct'])\n",
    "\n",
    "    ks_max = grouped['ks'].max()\n",
    "\n",
    "    plt.figure()\n",
    "    plt.plot(grouped['cum_bad_pct'], label='Cumulative Bad Rate')\n",
    "    plt.plot(grouped['cum_good_pct'], label='Cumulative Good Rate')\n",
    "    plt.title(f'KS Curve (Max KS = {ks_max:.2f})')\n",
    "    plt.xlabel('Score Bucket (descending)')\n",
    "    plt.ylabel('Cumulative Percentage')\n",
    "    plt.legend()\n",
    "    plt.grid(True)\n",
    "    plt.show()\n",
    "\n",
    "def plot_bin_chart(y_true, y_score, n_bins=10):\n",
    "    df = pd.DataFrame({'score': y_score, 'label': y_true})\n",
    "    df['bucket'] = pd.qcut(df['score'], q=n_bins, duplicates='drop')\n",
    "    grouped = df.groupby('bucket', as_index=False,observed=True).agg({\n",
    "        'label': ['count', 'mean']\n",
    "    })\n",
    "    grouped.columns = ['bucket', 'count', 'actual_default_rate']\n",
    "\n",
    "    plt.figure()\n",
    "    plt.bar(range(len(grouped)), grouped['actual_default_rate'])\n",
    "    plt.xticks(range(len(grouped)), [str(b) for b in grouped['bucket']], rotation=45)\n",
    "    plt.title('Actual Default Rate by Score Bin')\n",
    "    plt.ylabel('Default Rate')\n",
    "    plt.xlabel('Score Bin')\n",
    "    plt.grid(True)\n",
    "    plt.tight_layout()\n",
    "    plt.show()"
   ]
  },
  {
   "cell_type": "markdown",
   "id": "ca2f1e49-ece9-4a8f-abe3-86931e3a6206",
   "metadata": {},
   "source": [
    "# Step 5: Model Evaluation"
   ]
  },
  {
   "cell_type": "code",
   "execution_count": 7,
   "id": "77d99358-39cb-4fd7-93bd-6d40a95a0cd3",
   "metadata": {},
   "outputs": [
    {
     "data": {
      "image/png": "[encoded data removed]",
      "text/plain": [
       "<Figure size 640x480 with 1 Axes>"
      ]
     },
     "metadata": {},
     "output_type": "display_data"
    }
   ],
   "source": [
    "#传入真实值和预测违约概率\n",
    "y_true = df['event']\n",
    "y_score = df['PD_pred']\n",
    "\n",
    "# ROC\n",
    "plot_roc(y_true, y_score)"
   ]
  },
  {
   "cell_type": "markdown",
   "id": "4465438c-0fbc-47da-a9ec-54124f0b3805",
   "metadata": {},
   "source": [
    "#### **Conclusion**:\n",
    "- 模型有一定区分力,能大致判断谁风险高\n",
    "- 模型意义：任意抽两个客户（一个违约一个未违约），模型预测违约概率更高的那个真的是违约的概率\n",
    "- 但排序准确性还有提升空间, AUC < 0.70 仍算中等偏弱\n",
    "- 可能原因：\n",
    "    1) 自变量 X1, X2 和真实风险的相关性不强\n",
    "    2) 特征没有做标准化或衍生 \n",
    "    3) Poisson模型结构仍较为简单"
   ]
  },
  {
   "cell_type": "code",
   "execution_count": 8,
   "id": "4925c47f-096c-477a-86d1-0e9c5951dc39",
   "metadata": {},
   "outputs": [
    {
     "data": {
      "image/png": "[encoded data removed]",
      "text/plain": [
       "<Figure size 640x480 with 1 Axes>"
      ]
     },
     "metadata": {},
     "output_type": "display_data"
    }
   ],
   "source": [
    "# KS Scorce\n",
    "plot_ks(y_true, y_score)"
   ]
  },
  {
   "cell_type": "markdown",
   "id": "bbe339b7-7cae-4264-85e9-975dd6a24df3",
   "metadata": {},
   "source": [
    "#### **Conclusion**:\n",
    "- KS Scorce的意思是模型对违约客户和非违约客户的识别差异能力 KS < 0.2 代表弱， KS > 0.5 代表强\n",
    "- **总结**：\n",
    "  | 结论                | 解读                                  |\n",
    "| ----------------- | ----------------------------------- |\n",
    "| 模型可以一定程度上区分违约客户   | 但 KS 仅为 0.25，说明分辨力不强                |\n",
    "| 风险较高客户与正常客户分数交错   | 有可能 λ (intensity) 受特征 X1/X2 表达不清晰导致 |\n",
    "| 模型在高风险分数段并未显著集中违约 | 若用于贷款定价、授信限额，仍需加上更多变量进行增强建模         |\n",
    "\n",
    "- **How to improve**:\n",
    "  | 方向   | 建议                 |\n",
    "| ---- | ---------------------------------------------------------------- |\n",
    "| 特征工程 | 增加与违约强相关的特征（如负债比、信用评分、还款历史等）                                     |\n",
    "| 模型比较 | 引入逻辑回归、XGBoost、随机森林等模型做横向对比                                      |\n",
    "| 分段建模 | 按贷款类型、客户类型进行分层建模（分组后再建模）                                         |\n",
    "| 阈值调整 | 选择最优 cut-off 以最小化成本函数，例如 maximize KS 或 minimize FPR at fixed TPR |\n"
   ]
  },
  {
   "cell_type": "code",
   "execution_count": 9,
   "id": "13cc4d09-3e8c-4f4f-8df5-bacf9f204712",
   "metadata": {},
   "outputs": [
    {
     "data": {
      "image/png": "[encoded data removed]",
      "text/plain": [
       "<Figure size 640x480 with 1 Axes>"
      ]
     },
     "metadata": {},
     "output_type": "display_data"
    }
   ],
   "source": [
    "# Bin Chart\n",
    "plot_bin_chart(y_true, y_score)"
   ]
  },
  {
   "cell_type": "markdown",
   "id": "880867b1-fc70-49bc-a28b-a5a29e3094d7",
   "metadata": {},
   "source": [
    "#### 图形解释\n",
    "\n",
    "| 元素                | 含义                                                |\n",
    "| ----------------- | ------------------------------------------------- |\n",
    "| 横轴 Score Bin    | 你将模型输出的违约概率 PD_pred 分成了 10 个分数区间（每个 bin 大致等量数据） |\n",
    "| 纵轴 Default Rate | 每个区间内的 **实际违约率**，即真实标签event=1的占比              |\n",
    "| 柱子的高度             | 越高代表该分数段的实际违约率越高                                  |\n",
    "\n",
    "#### Result: \n",
    "**一个好的PD模型应当满足:**\n",
    "1) 得分越高（PD越大），违约率越高 → 实现严格递增的关系。\n",
    "2) 如果柱子从左到右基本单调上升，则说明：模型的预测结果和实际违约概率趋势一致，说明模型是“可解释的”、“有区分力的”。\n",
    "3) 整体从左到右是上升的，但略有波动, 说明整体上具备可解释性，但可能仍有进一步改进空间"
   ]
  },
  {
   "cell_type": "markdown",
   "id": "01878dca-049d-4f69-86f4-3d9a5ea18545",
   "metadata": {},
   "source": [
    "# Step 7: Stress Testing"
   ]
  },
  {
   "cell_type": "markdown",
   "id": "c8071523-cf28-49c9-b380-120b416abfa7",
   "metadata": {},
   "source": [
    "#### 1) Obtain RBA Cash Rate"
   ]
  },
  {
   "cell_type": "code",
   "execution_count": 10,
   "id": "998b7adc-40b9-4d9a-8608-5d51d5f8b774",
   "metadata": {},
   "outputs": [
    {
     "name": "stdout",
     "output_type": "stream",
     "text": [
      "共抓到 1 张表\n"
     ]
    }
   ],
   "source": [
    "url = \"https://www.rba.gov.au/statistics/cash-rate/\"\n",
    "\n",
    "# 抓取网页中的所有表格\n",
    "tables = pd.read_html(url)\n",
    "\n",
    "# 查看页面中抓取到的所有表格数量\n",
    "print(f\"Get {len(tables)} tables\")\n",
    "\n",
    "# 假设第一个就是目标表格\n",
    "rba_df = tables[0]"
   ]
  },
  {
   "cell_type": "code",
   "execution_count": 11,
   "id": "3442766d-1a8c-4163-b3fb-ca9ac8888303",
   "metadata": {},
   "outputs": [
    {
     "data": {
      "text/html": [
       "<div>\n",
       "<style scoped>\n",
       "    .dataframe tbody tr th:only-of-type {\n",
       "        vertical-align: middle;\n",
       "    }\n",
       "\n",
       "    .dataframe tbody tr th {\n",
       "        vertical-align: top;\n",
       "    }\n",
       "\n",
       "    .dataframe thead th {\n",
       "        text-align: right;\n",
       "    }\n",
       "</style>\n",
       "<table border=\"1\" class=\"dataframe\">\n",
       "  <thead>\n",
       "    <tr style=\"text-align: right;\">\n",
       "      <th></th>\n",
       "      <th>Effective Date</th>\n",
       "      <th>Change% points</th>\n",
       "      <th>Cash rate target %</th>\n",
       "      <th>Related Documents</th>\n",
       "    </tr>\n",
       "  </thead>\n",
       "  <tbody>\n",
       "    <tr>\n",
       "      <th>0</th>\n",
       "      <td>9 Jul 2025</td>\n",
       "      <td>0.00</td>\n",
       "      <td>3.85</td>\n",
       "      <td>Statement  Minutes</td>\n",
       "    </tr>\n",
       "    <tr>\n",
       "      <th>1</th>\n",
       "      <td>21 May 2025</td>\n",
       "      <td>-0.25</td>\n",
       "      <td>3.85</td>\n",
       "      <td>Statement  Minutes</td>\n",
       "    </tr>\n",
       "    <tr>\n",
       "      <th>2</th>\n",
       "      <td>2 Apr 2025</td>\n",
       "      <td>0.00</td>\n",
       "      <td>4.10</td>\n",
       "      <td>Statement  Minutes</td>\n",
       "    </tr>\n",
       "    <tr>\n",
       "      <th>3</th>\n",
       "      <td>19 Feb 2025</td>\n",
       "      <td>-0.25</td>\n",
       "      <td>4.10</td>\n",
       "      <td>Statement  Minutes</td>\n",
       "    </tr>\n",
       "    <tr>\n",
       "      <th>4</th>\n",
       "      <td>11 Dec 2024</td>\n",
       "      <td>0.00</td>\n",
       "      <td>4.35</td>\n",
       "      <td>Statement  Minutes</td>\n",
       "    </tr>\n",
       "    <tr>\n",
       "      <th>...</th>\n",
       "      <td>...</td>\n",
       "      <td>...</td>\n",
       "      <td>...</td>\n",
       "      <td>...</td>\n",
       "    </tr>\n",
       "    <tr>\n",
       "      <th>391</th>\n",
       "      <td>23 Jan 1990</td>\n",
       "      <td>-0.50 to -1.00</td>\n",
       "      <td>17.00 to 17.50</td>\n",
       "      <td>Statement</td>\n",
       "    </tr>\n",
       "    <tr>\n",
       "      <th>392</th>\n",
       "      <td>Legend:</td>\n",
       "      <td>Legend:</td>\n",
       "      <td>Legend:</td>\n",
       "      <td>Legend:</td>\n",
       "    </tr>\n",
       "    <tr>\n",
       "      <th>393</th>\n",
       "      <td>Cash rate decreased</td>\n",
       "      <td>Cash rate decreased</td>\n",
       "      <td>Cash rate decreased</td>\n",
       "      <td>Cash rate decreased</td>\n",
       "    </tr>\n",
       "    <tr>\n",
       "      <th>394</th>\n",
       "      <td>Cash rate increased</td>\n",
       "      <td>Cash rate increased</td>\n",
       "      <td>Cash rate increased</td>\n",
       "      <td>Cash rate increased</td>\n",
       "    </tr>\n",
       "    <tr>\n",
       "      <th>395</th>\n",
       "      <td>Cash rate unchanged</td>\n",
       "      <td>Cash rate unchanged</td>\n",
       "      <td>Cash rate unchanged</td>\n",
       "      <td>Cash rate unchanged</td>\n",
       "    </tr>\n",
       "  </tbody>\n",
       "</table>\n",
       "<p>396 rows × 4 columns</p>\n",
       "</div>"
      ],
      "text/plain": [
       "          Effective Date       Change% points   Cash rate target %  \\\n",
       "0             9 Jul 2025                 0.00                 3.85   \n",
       "1            21 May 2025                -0.25                 3.85   \n",
       "2             2 Apr 2025                 0.00                 4.10   \n",
       "3            19 Feb 2025                -0.25                 4.10   \n",
       "4            11 Dec 2024                 0.00                 4.35   \n",
       "..                   ...                  ...                  ...   \n",
       "391          23 Jan 1990       -0.50 to -1.00       17.00 to 17.50   \n",
       "392              Legend:              Legend:              Legend:   \n",
       "393  Cash rate decreased  Cash rate decreased  Cash rate decreased   \n",
       "394  Cash rate increased  Cash rate increased  Cash rate increased   \n",
       "395  Cash rate unchanged  Cash rate unchanged  Cash rate unchanged   \n",
       "\n",
       "       Related Documents  \n",
       "0     Statement  Minutes  \n",
       "1     Statement  Minutes  \n",
       "2     Statement  Minutes  \n",
       "3     Statement  Minutes  \n",
       "4     Statement  Minutes  \n",
       "..                   ...  \n",
       "391            Statement  \n",
       "392              Legend:  \n",
       "393  Cash rate decreased  \n",
       "394  Cash rate increased  \n",
       "395  Cash rate unchanged  \n",
       "\n",
       "[396 rows x 4 columns]"
      ]
     },
     "execution_count": 11,
     "metadata": {},
     "output_type": "execute_result"
    }
   ],
   "source": [
    "rba_df"
   ]
  },
  {
   "cell_type": "code",
   "execution_count": 12,
   "id": "bff767f1-5d74-47e3-9d1f-cc06353b6c32",
   "metadata": {
    "scrolled": true
   },
   "outputs": [
    {
     "data": {
      "text/html": [
       "<div>\n",
       "<style scoped>\n",
       "    .dataframe tbody tr th:only-of-type {\n",
       "        vertical-align: middle;\n",
       "    }\n",
       "\n",
       "    .dataframe tbody tr th {\n",
       "        vertical-align: top;\n",
       "    }\n",
       "\n",
       "    .dataframe thead th {\n",
       "        text-align: right;\n",
       "    }\n",
       "</style>\n",
       "<table border=\"1\" class=\"dataframe\">\n",
       "  <thead>\n",
       "    <tr style=\"text-align: right;\">\n",
       "      <th></th>\n",
       "      <th>date</th>\n",
       "      <th>cash_rate</th>\n",
       "    </tr>\n",
       "  </thead>\n",
       "  <tbody>\n",
       "    <tr>\n",
       "      <th>0</th>\n",
       "      <td>9 Jul 2025</td>\n",
       "      <td>3.85</td>\n",
       "    </tr>\n",
       "    <tr>\n",
       "      <th>1</th>\n",
       "      <td>21 May 2025</td>\n",
       "      <td>3.85</td>\n",
       "    </tr>\n",
       "    <tr>\n",
       "      <th>2</th>\n",
       "      <td>2 Apr 2025</td>\n",
       "      <td>4.10</td>\n",
       "    </tr>\n",
       "    <tr>\n",
       "      <th>3</th>\n",
       "      <td>19 Feb 2025</td>\n",
       "      <td>4.10</td>\n",
       "    </tr>\n",
       "    <tr>\n",
       "      <th>4</th>\n",
       "      <td>11 Dec 2024</td>\n",
       "      <td>4.35</td>\n",
       "    </tr>\n",
       "    <tr>\n",
       "      <th>...</th>\n",
       "      <td>...</td>\n",
       "      <td>...</td>\n",
       "    </tr>\n",
       "    <tr>\n",
       "      <th>383</th>\n",
       "      <td>5 Sep 1990</td>\n",
       "      <td>14.00</td>\n",
       "    </tr>\n",
       "    <tr>\n",
       "      <th>384</th>\n",
       "      <td>2 Aug 1990</td>\n",
       "      <td>14.00</td>\n",
       "    </tr>\n",
       "    <tr>\n",
       "      <th>393</th>\n",
       "      <td>Cash rate decreased</td>\n",
       "      <td>Cash rate decreased</td>\n",
       "    </tr>\n",
       "    <tr>\n",
       "      <th>394</th>\n",
       "      <td>Cash rate increased</td>\n",
       "      <td>Cash rate increased</td>\n",
       "    </tr>\n",
       "    <tr>\n",
       "      <th>395</th>\n",
       "      <td>Cash rate unchanged</td>\n",
       "      <td>Cash rate unchanged</td>\n",
       "    </tr>\n",
       "  </tbody>\n",
       "</table>\n",
       "<p>388 rows × 2 columns</p>\n",
       "</div>"
      ],
      "text/plain": [
       "                    date            cash_rate\n",
       "0             9 Jul 2025                 3.85\n",
       "1            21 May 2025                 3.85\n",
       "2             2 Apr 2025                 4.10\n",
       "3            19 Feb 2025                 4.10\n",
       "4            11 Dec 2024                 4.35\n",
       "..                   ...                  ...\n",
       "383           5 Sep 1990                14.00\n",
       "384           2 Aug 1990                14.00\n",
       "393  Cash rate decreased  Cash rate decreased\n",
       "394  Cash rate increased  Cash rate increased\n",
       "395  Cash rate unchanged  Cash rate unchanged\n",
       "\n",
       "[388 rows x 2 columns]"
      ]
     },
     "execution_count": 12,
     "metadata": {},
     "output_type": "execute_result"
    }
   ],
   "source": [
    "# Step 1: 去除包含 \"Legend\" 的行\n",
    "rba_df = rba_df[~rba_df['Cash rate target %'].astype(str).str.contains('Legend|to')].copy()\n",
    "\n",
    "# Step 2: 只保留有效列并重命名\n",
    "rba_df = rba_df[['Effective Date', 'Cash rate target %']].rename(columns={\n",
    "    'Effective Date': 'date',\n",
    "    'Cash rate target %': 'cash_rate'\n",
    "})\n",
    "\n",
    "rba_df"
   ]
  },
  {
   "cell_type": "code",
   "execution_count": 13,
   "id": "a477ccd7-f503-4de3-bf32-e362a555741a",
   "metadata": {},
   "outputs": [
    {
     "data": {
      "text/html": [
       "<div>\n",
       "<style scoped>\n",
       "    .dataframe tbody tr th:only-of-type {\n",
       "        vertical-align: middle;\n",
       "    }\n",
       "\n",
       "    .dataframe tbody tr th {\n",
       "        vertical-align: top;\n",
       "    }\n",
       "\n",
       "    .dataframe thead th {\n",
       "        text-align: right;\n",
       "    }\n",
       "</style>\n",
       "<table border=\"1\" class=\"dataframe\">\n",
       "  <thead>\n",
       "    <tr style=\"text-align: right;\">\n",
       "      <th></th>\n",
       "      <th>date</th>\n",
       "      <th>cash_rate</th>\n",
       "    </tr>\n",
       "  </thead>\n",
       "  <tbody>\n",
       "    <tr>\n",
       "      <th>0</th>\n",
       "      <td>9 Jul 2025</td>\n",
       "      <td>3.85</td>\n",
       "    </tr>\n",
       "    <tr>\n",
       "      <th>1</th>\n",
       "      <td>21 May 2025</td>\n",
       "      <td>3.85</td>\n",
       "    </tr>\n",
       "    <tr>\n",
       "      <th>2</th>\n",
       "      <td>2 Apr 2025</td>\n",
       "      <td>4.10</td>\n",
       "    </tr>\n",
       "    <tr>\n",
       "      <th>3</th>\n",
       "      <td>19 Feb 2025</td>\n",
       "      <td>4.10</td>\n",
       "    </tr>\n",
       "    <tr>\n",
       "      <th>4</th>\n",
       "      <td>11 Dec 2024</td>\n",
       "      <td>4.35</td>\n",
       "    </tr>\n",
       "    <tr>\n",
       "      <th>...</th>\n",
       "      <td>...</td>\n",
       "      <td>...</td>\n",
       "    </tr>\n",
       "    <tr>\n",
       "      <th>380</th>\n",
       "      <td>18 Dec 1990</td>\n",
       "      <td>12.00</td>\n",
       "    </tr>\n",
       "    <tr>\n",
       "      <th>381</th>\n",
       "      <td>7 Nov 1990</td>\n",
       "      <td>13.00</td>\n",
       "    </tr>\n",
       "    <tr>\n",
       "      <th>382</th>\n",
       "      <td>15 Oct 1990</td>\n",
       "      <td>13.00</td>\n",
       "    </tr>\n",
       "    <tr>\n",
       "      <th>383</th>\n",
       "      <td>5 Sep 1990</td>\n",
       "      <td>14.00</td>\n",
       "    </tr>\n",
       "    <tr>\n",
       "      <th>384</th>\n",
       "      <td>2 Aug 1990</td>\n",
       "      <td>14.00</td>\n",
       "    </tr>\n",
       "  </tbody>\n",
       "</table>\n",
       "<p>385 rows × 2 columns</p>\n",
       "</div>"
      ],
      "text/plain": [
       "            date cash_rate\n",
       "0     9 Jul 2025      3.85\n",
       "1    21 May 2025      3.85\n",
       "2     2 Apr 2025      4.10\n",
       "3    19 Feb 2025      4.10\n",
       "4    11 Dec 2024      4.35\n",
       "..           ...       ...\n",
       "380  18 Dec 1990     12.00\n",
       "381   7 Nov 1990     13.00\n",
       "382  15 Oct 1990     13.00\n",
       "383   5 Sep 1990     14.00\n",
       "384   2 Aug 1990     14.00\n",
       "\n",
       "[385 rows x 2 columns]"
      ]
     },
     "execution_count": 13,
     "metadata": {},
     "output_type": "execute_result"
    }
   ],
   "source": [
    "rba_df = rba_df.drop([393,394,395])\n",
    "rba_df"
   ]
  },
  {
   "cell_type": "code",
   "execution_count": 14,
   "id": "0a57725d-30c7-4c92-bef3-7ffcd3f37f68",
   "metadata": {},
   "outputs": [
    {
     "data": {
      "text/html": [
       "<div>\n",
       "<style scoped>\n",
       "    .dataframe tbody tr th:only-of-type {\n",
       "        vertical-align: middle;\n",
       "    }\n",
       "\n",
       "    .dataframe tbody tr th {\n",
       "        vertical-align: top;\n",
       "    }\n",
       "\n",
       "    .dataframe thead th {\n",
       "        text-align: right;\n",
       "    }\n",
       "</style>\n",
       "<table border=\"1\" class=\"dataframe\">\n",
       "  <thead>\n",
       "    <tr style=\"text-align: right;\">\n",
       "      <th></th>\n",
       "      <th>date</th>\n",
       "      <th>cash_rate</th>\n",
       "    </tr>\n",
       "  </thead>\n",
       "  <tbody>\n",
       "    <tr>\n",
       "      <th>0</th>\n",
       "      <td>2025-07-09</td>\n",
       "      <td>3.85</td>\n",
       "    </tr>\n",
       "    <tr>\n",
       "      <th>1</th>\n",
       "      <td>2025-05-21</td>\n",
       "      <td>3.85</td>\n",
       "    </tr>\n",
       "    <tr>\n",
       "      <th>2</th>\n",
       "      <td>2025-04-02</td>\n",
       "      <td>4.10</td>\n",
       "    </tr>\n",
       "    <tr>\n",
       "      <th>3</th>\n",
       "      <td>2025-02-19</td>\n",
       "      <td>4.10</td>\n",
       "    </tr>\n",
       "    <tr>\n",
       "      <th>4</th>\n",
       "      <td>2024-12-11</td>\n",
       "      <td>4.35</td>\n",
       "    </tr>\n",
       "    <tr>\n",
       "      <th>...</th>\n",
       "      <td>...</td>\n",
       "      <td>...</td>\n",
       "    </tr>\n",
       "    <tr>\n",
       "      <th>380</th>\n",
       "      <td>1990-12-18</td>\n",
       "      <td>12.00</td>\n",
       "    </tr>\n",
       "    <tr>\n",
       "      <th>381</th>\n",
       "      <td>1990-11-07</td>\n",
       "      <td>13.00</td>\n",
       "    </tr>\n",
       "    <tr>\n",
       "      <th>382</th>\n",
       "      <td>1990-10-15</td>\n",
       "      <td>13.00</td>\n",
       "    </tr>\n",
       "    <tr>\n",
       "      <th>383</th>\n",
       "      <td>1990-09-05</td>\n",
       "      <td>14.00</td>\n",
       "    </tr>\n",
       "    <tr>\n",
       "      <th>384</th>\n",
       "      <td>1990-08-02</td>\n",
       "      <td>14.00</td>\n",
       "    </tr>\n",
       "  </tbody>\n",
       "</table>\n",
       "<p>385 rows × 2 columns</p>\n",
       "</div>"
      ],
      "text/plain": [
       "          date  cash_rate\n",
       "0   2025-07-09       3.85\n",
       "1   2025-05-21       3.85\n",
       "2   2025-04-02       4.10\n",
       "3   2025-02-19       4.10\n",
       "4   2024-12-11       4.35\n",
       "..         ...        ...\n",
       "380 1990-12-18      12.00\n",
       "381 1990-11-07      13.00\n",
       "382 1990-10-15      13.00\n",
       "383 1990-09-05      14.00\n",
       "384 1990-08-02      14.00\n",
       "\n",
       "[385 rows x 2 columns]"
      ]
     },
     "execution_count": 14,
     "metadata": {},
     "output_type": "execute_result"
    }
   ],
   "source": [
    "# Step 3: 类型转换\n",
    "rba_df['date'] = pd.to_datetime(rba_df['date'], dayfirst=True, errors='coerce')  # 自动识别日/月/年格式\n",
    "rba_df['cash_rate'] = pd.to_numeric(rba_df['cash_rate'], errors='coerce')\n",
    "rba_df"
   ]
  },
  {
   "cell_type": "code",
   "execution_count": 15,
   "id": "f991b1ea-ace5-4518-b9f4-d13bb6903d6f",
   "metadata": {},
   "outputs": [
    {
     "data": {
      "text/plain": [
       "date         0\n",
       "cash_rate    0\n",
       "dtype: int64"
      ]
     },
     "execution_count": 15,
     "metadata": {},
     "output_type": "execute_result"
    }
   ],
   "source": [
    "rba_df = rba_df.dropna()\n",
    "rba_df.isnull().sum()"
   ]
  },
  {
   "cell_type": "code",
   "execution_count": 17,
   "id": "c745bc2c-9065-4cc0-95d2-62567f162c1f",
   "metadata": {},
   "outputs": [
    {
     "data": {
      "text/html": [
       "<div>\n",
       "<style scoped>\n",
       "    .dataframe tbody tr th:only-of-type {\n",
       "        vertical-align: middle;\n",
       "    }\n",
       "\n",
       "    .dataframe tbody tr th {\n",
       "        vertical-align: top;\n",
       "    }\n",
       "\n",
       "    .dataframe thead th {\n",
       "        text-align: right;\n",
       "    }\n",
       "</style>\n",
       "<table border=\"1\" class=\"dataframe\">\n",
       "  <thead>\n",
       "    <tr style=\"text-align: right;\">\n",
       "      <th></th>\n",
       "      <th>X1</th>\n",
       "      <th>X2</th>\n",
       "      <th>T</th>\n",
       "      <th>tau</th>\n",
       "      <th>lambda</th>\n",
       "      <th>event</th>\n",
       "      <th>PD_pred</th>\n",
       "      <th>X3</th>\n",
       "    </tr>\n",
       "  </thead>\n",
       "  <tbody>\n",
       "    <tr>\n",
       "      <th>0</th>\n",
       "      <td>0.496714</td>\n",
       "      <td>-0.138264</td>\n",
       "      <td>2.110660</td>\n",
       "      <td>0.895025</td>\n",
       "      <td>1.336209</td>\n",
       "      <td>1</td>\n",
       "      <td>0.883963</td>\n",
       "      <td>2.00</td>\n",
       "    </tr>\n",
       "    <tr>\n",
       "      <th>1</th>\n",
       "      <td>0.647689</td>\n",
       "      <td>1.523030</td>\n",
       "      <td>1.599015</td>\n",
       "      <td>0.655409</td>\n",
       "      <td>0.875408</td>\n",
       "      <td>1</td>\n",
       "      <td>0.776205</td>\n",
       "      <td>6.50</td>\n",
       "    </tr>\n",
       "    <tr>\n",
       "      <th>2</th>\n",
       "      <td>-0.234153</td>\n",
       "      <td>-0.234137</td>\n",
       "      <td>2.023231</td>\n",
       "      <td>0.228871</td>\n",
       "      <td>0.954244</td>\n",
       "      <td>1</td>\n",
       "      <td>0.869552</td>\n",
       "      <td>7.50</td>\n",
       "    </tr>\n",
       "    <tr>\n",
       "      <th>3</th>\n",
       "      <td>1.579213</td>\n",
       "      <td>0.767435</td>\n",
       "      <td>1.666497</td>\n",
       "      <td>1.135524</td>\n",
       "      <td>1.749580</td>\n",
       "      <td>1</td>\n",
       "      <td>0.810771</td>\n",
       "      <td>0.75</td>\n",
       "    </tr>\n",
       "    <tr>\n",
       "      <th>4</th>\n",
       "      <td>-0.469474</td>\n",
       "      <td>0.542560</td>\n",
       "      <td>2.712353</td>\n",
       "      <td>0.808820</td>\n",
       "      <td>0.671994</td>\n",
       "      <td>1</td>\n",
       "      <td>0.925888</td>\n",
       "      <td>1.50</td>\n",
       "    </tr>\n",
       "    <tr>\n",
       "      <th>...</th>\n",
       "      <td>...</td>\n",
       "      <td>...</td>\n",
       "      <td>...</td>\n",
       "      <td>...</td>\n",
       "      <td>...</td>\n",
       "      <td>...</td>\n",
       "      <td>...</td>\n",
       "      <td>...</td>\n",
       "    </tr>\n",
       "    <tr>\n",
       "      <th>995</th>\n",
       "      <td>0.800410</td>\n",
       "      <td>0.754291</td>\n",
       "      <td>2.013968</td>\n",
       "      <td>1.059957</td>\n",
       "      <td>1.189957</td>\n",
       "      <td>1</td>\n",
       "      <td>0.861025</td>\n",
       "      <td>12.00</td>\n",
       "    </tr>\n",
       "    <tr>\n",
       "      <th>996</th>\n",
       "      <td>1.188913</td>\n",
       "      <td>0.708304</td>\n",
       "      <td>2.796988</td>\n",
       "      <td>0.624852</td>\n",
       "      <td>1.465162</td>\n",
       "      <td>1</td>\n",
       "      <td>0.937659</td>\n",
       "      <td>12.00</td>\n",
       "    </tr>\n",
       "    <tr>\n",
       "      <th>997</th>\n",
       "      <td>0.351448</td>\n",
       "      <td>1.070150</td>\n",
       "      <td>1.732388</td>\n",
       "      <td>0.241019</td>\n",
       "      <td>0.864745</td>\n",
       "      <td>1</td>\n",
       "      <td>0.807872</td>\n",
       "      <td>0.85</td>\n",
       "    </tr>\n",
       "    <tr>\n",
       "      <th>998</th>\n",
       "      <td>-0.026521</td>\n",
       "      <td>-0.881875</td>\n",
       "      <td>1.624105</td>\n",
       "      <td>3.327838</td>\n",
       "      <td>1.285698</td>\n",
       "      <td>0</td>\n",
       "      <td>0.817765</td>\n",
       "      <td>5.00</td>\n",
       "    </tr>\n",
       "    <tr>\n",
       "      <th>999</th>\n",
       "      <td>-0.163067</td>\n",
       "      <td>-0.744903</td>\n",
       "      <td>2.226807</td>\n",
       "      <td>0.374609</td>\n",
       "      <td>1.152504</td>\n",
       "      <td>1</td>\n",
       "      <td>0.900625</td>\n",
       "      <td>1.75</td>\n",
       "    </tr>\n",
       "  </tbody>\n",
       "</table>\n",
       "<p>1000 rows × 8 columns</p>\n",
       "</div>"
      ],
      "text/plain": [
       "           X1        X2         T       tau    lambda  event   PD_pred     X3\n",
       "0    0.496714 -0.138264  2.110660  0.895025  1.336209      1  0.883963   2.00\n",
       "1    0.647689  1.523030  1.599015  0.655409  0.875408      1  0.776205   6.50\n",
       "2   -0.234153 -0.234137  2.023231  0.228871  0.954244      1  0.869552   7.50\n",
       "3    1.579213  0.767435  1.666497  1.135524  1.749580      1  0.810771   0.75\n",
       "4   -0.469474  0.542560  2.712353  0.808820  0.671994      1  0.925888   1.50\n",
       "..        ...       ...       ...       ...       ...    ...       ...    ...\n",
       "995  0.800410  0.754291  2.013968  1.059957  1.189957      1  0.861025  12.00\n",
       "996  1.188913  0.708304  2.796988  0.624852  1.465162      1  0.937659  12.00\n",
       "997  0.351448  1.070150  1.732388  0.241019  0.864745      1  0.807872   0.85\n",
       "998 -0.026521 -0.881875  1.624105  3.327838  1.285698      0  0.817765   5.00\n",
       "999 -0.163067 -0.744903  2.226807  0.374609  1.152504      1  0.900625   1.75\n",
       "\n",
       "[1000 rows x 8 columns]"
      ]
     },
     "execution_count": 17,
     "metadata": {},
     "output_type": "execute_result"
    }
   ],
   "source": [
    "# 从 RBA 数据中提取 cash_rate 值\n",
    "rba_rates = rba_df['cash_rate'].dropna().values\n",
    "\n",
    "# 从历史利率中随机采样，生成与模拟样本数相同的 X3\n",
    "df['X3'] = np.random.choice(rba_rates, size=len(df), replace=True)\n",
    "df"
   ]
  },
  {
   "cell_type": "markdown",
   "id": "84159679-c4c9-4bb9-b870-04922070ff21",
   "metadata": {},
   "source": [
    "#### 2): 使用新的 X1, X2, X3 特征重新拟合 Poisson 强度模型"
   ]
  },
  {
   "cell_type": "code",
   "execution_count": 19,
   "id": "3e37024d-ce42-4871-b41e-af0300b8279d",
   "metadata": {},
   "outputs": [
    {
     "name": "stdout",
     "output_type": "stream",
     "text": [
      "Estimated Beta: [ 0.08255005 -0.054513   -0.18530588]\n"
     ]
    },
    {
     "data": {
      "text/html": [
       "<div>\n",
       "<style scoped>\n",
       "    .dataframe tbody tr th:only-of-type {\n",
       "        vertical-align: middle;\n",
       "    }\n",
       "\n",
       "    .dataframe tbody tr th {\n",
       "        vertical-align: top;\n",
       "    }\n",
       "\n",
       "    .dataframe thead th {\n",
       "        text-align: right;\n",
       "    }\n",
       "</style>\n",
       "<table border=\"1\" class=\"dataframe\">\n",
       "  <thead>\n",
       "    <tr style=\"text-align: right;\">\n",
       "      <th></th>\n",
       "      <th>X1</th>\n",
       "      <th>X2</th>\n",
       "      <th>T</th>\n",
       "      <th>tau</th>\n",
       "      <th>lambda</th>\n",
       "      <th>event</th>\n",
       "      <th>PD_pred</th>\n",
       "      <th>X3</th>\n",
       "    </tr>\n",
       "  </thead>\n",
       "  <tbody>\n",
       "    <tr>\n",
       "      <th>0</th>\n",
       "      <td>0.496714</td>\n",
       "      <td>-0.138264</td>\n",
       "      <td>2.110660</td>\n",
       "      <td>0.895025</td>\n",
       "      <td>1.336209</td>\n",
       "      <td>1</td>\n",
       "      <td>0.783352</td>\n",
       "      <td>2.00</td>\n",
       "    </tr>\n",
       "    <tr>\n",
       "      <th>1</th>\n",
       "      <td>0.647689</td>\n",
       "      <td>1.523030</td>\n",
       "      <td>1.599015</td>\n",
       "      <td>0.655409</td>\n",
       "      <td>0.875408</td>\n",
       "      <td>1</td>\n",
       "      <td>0.372174</td>\n",
       "      <td>6.50</td>\n",
       "    </tr>\n",
       "    <tr>\n",
       "      <th>2</th>\n",
       "      <td>-0.234153</td>\n",
       "      <td>-0.234137</td>\n",
       "      <td>2.023231</td>\n",
       "      <td>0.228871</td>\n",
       "      <td>0.954244</td>\n",
       "      <td>1</td>\n",
       "      <td>0.393919</td>\n",
       "      <td>7.50</td>\n",
       "    </tr>\n",
       "    <tr>\n",
       "      <th>3</th>\n",
       "      <td>1.579213</td>\n",
       "      <td>0.767435</td>\n",
       "      <td>1.666497</td>\n",
       "      <td>1.135524</td>\n",
       "      <td>1.749580</td>\n",
       "      <td>1</td>\n",
       "      <td>0.794951</td>\n",
       "      <td>0.75</td>\n",
       "    </tr>\n",
       "    <tr>\n",
       "      <th>4</th>\n",
       "      <td>-0.469474</td>\n",
       "      <td>0.542560</td>\n",
       "      <td>2.712353</td>\n",
       "      <td>0.808820</td>\n",
       "      <td>0.671994</td>\n",
       "      <td>1</td>\n",
       "      <td>0.853168</td>\n",
       "      <td>1.50</td>\n",
       "    </tr>\n",
       "    <tr>\n",
       "      <th>...</th>\n",
       "      <td>...</td>\n",
       "      <td>...</td>\n",
       "      <td>...</td>\n",
       "      <td>...</td>\n",
       "      <td>...</td>\n",
       "      <td>...</td>\n",
       "      <td>...</td>\n",
       "      <td>...</td>\n",
       "    </tr>\n",
       "    <tr>\n",
       "      <th>995</th>\n",
       "      <td>0.800410</td>\n",
       "      <td>0.754291</td>\n",
       "      <td>2.013968</td>\n",
       "      <td>1.059957</td>\n",
       "      <td>1.189957</td>\n",
       "      <td>1</td>\n",
       "      <td>0.200238</td>\n",
       "      <td>12.00</td>\n",
       "    </tr>\n",
       "    <tr>\n",
       "      <th>996</th>\n",
       "      <td>1.188913</td>\n",
       "      <td>0.708304</td>\n",
       "      <td>2.796988</td>\n",
       "      <td>0.624852</td>\n",
       "      <td>1.465162</td>\n",
       "      <td>1</td>\n",
       "      <td>0.274744</td>\n",
       "      <td>12.00</td>\n",
       "    </tr>\n",
       "    <tr>\n",
       "      <th>997</th>\n",
       "      <td>0.351448</td>\n",
       "      <td>1.070150</td>\n",
       "      <td>1.732388</td>\n",
       "      <td>0.241019</td>\n",
       "      <td>0.864745</td>\n",
       "      <td>1</td>\n",
       "      <td>0.762397</td>\n",
       "      <td>0.85</td>\n",
       "    </tr>\n",
       "    <tr>\n",
       "      <th>998</th>\n",
       "      <td>-0.026521</td>\n",
       "      <td>-0.881875</td>\n",
       "      <td>1.624105</td>\n",
       "      <td>3.327838</td>\n",
       "      <td>1.285698</td>\n",
       "      <td>0</td>\n",
       "      <td>0.489935</td>\n",
       "      <td>5.00</td>\n",
       "    </tr>\n",
       "    <tr>\n",
       "      <th>999</th>\n",
       "      <td>-0.163067</td>\n",
       "      <td>-0.744903</td>\n",
       "      <td>2.226807</td>\n",
       "      <td>0.374609</td>\n",
       "      <td>1.152504</td>\n",
       "      <td>1</td>\n",
       "      <td>0.808790</td>\n",
       "      <td>1.75</td>\n",
       "    </tr>\n",
       "  </tbody>\n",
       "</table>\n",
       "<p>1000 rows × 8 columns</p>\n",
       "</div>"
      ],
      "text/plain": [
       "           X1        X2         T       tau    lambda  event   PD_pred     X3\n",
       "0    0.496714 -0.138264  2.110660  0.895025  1.336209      1  0.783352   2.00\n",
       "1    0.647689  1.523030  1.599015  0.655409  0.875408      1  0.372174   6.50\n",
       "2   -0.234153 -0.234137  2.023231  0.228871  0.954244      1  0.393919   7.50\n",
       "3    1.579213  0.767435  1.666497  1.135524  1.749580      1  0.794951   0.75\n",
       "4   -0.469474  0.542560  2.712353  0.808820  0.671994      1  0.853168   1.50\n",
       "..        ...       ...       ...       ...       ...    ...       ...    ...\n",
       "995  0.800410  0.754291  2.013968  1.059957  1.189957      1  0.200238  12.00\n",
       "996  1.188913  0.708304  2.796988  0.624852  1.465162      1  0.274744  12.00\n",
       "997  0.351448  1.070150  1.732388  0.241019  0.864745      1  0.762397   0.85\n",
       "998 -0.026521 -0.881875  1.624105  3.327838  1.285698      0  0.489935   5.00\n",
       "999 -0.163067 -0.744903  2.226807  0.374609  1.152504      1  0.808790   1.75\n",
       "\n",
       "[1000 rows x 8 columns]"
      ]
     },
     "execution_count": 19,
     "metadata": {},
     "output_type": "execute_result"
    }
   ],
   "source": [
    "# 准备建模特征和目标变量\n",
    "X = df[['X1', 'X2', 'X3']]\n",
    "T = df['T']\n",
    "event = df['event']\n",
    "\n",
    "#拟合模型\n",
    "model = PoissonPDModel(X, T, event)\n",
    "beta_hat = model.fit()\n",
    "print(\"Estimated Beta:\", beta_hat)\n",
    "\n",
    "# 输出预测的PD\n",
    "df['PD_pred'] = model.predict_pd(X, T)\n",
    "df"
   ]
  },
  {
   "cell_type": "markdown",
   "id": "05285e85-5fbc-45bc-b0ec-0e87752af907",
   "metadata": {},
   "source": [
    "#### 3): Visualize interactive plot"
   ]
  },
  {
   "cell_type": "code",
   "execution_count": 22,
   "id": "78601ffb-73d9-4944-8876-6b0dbcf93d85",
   "metadata": {},
   "outputs": [
    {
     "data": {
      "application/vnd.plotly.v1+json": {
       "config": {
        "plotlyServerURL": "https://plot.ly"
       },
       "data": [
        {
         "hovertemplate": "Interest Rate=%{x}<br>Predicted PD=%{y}<extra></extra>",
         "legendgroup": "",
         "marker": {
          "color": "#636efa",
          "opacity": 0.6,
          "symbol": "circle"
         },
         "mode": "markers",
         "name": "",
         "orientation": "v",
         "showlegend": false,
         "type": "scatter",
         "x": {
          "bdata": "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",
          "dtype": "f8"
         },
         "xaxis": "x",
         "y": {
          "bdata": "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",
          "dtype": "f8"
         },
         "yaxis": "y"
        },
        {
         "hovertemplate": "<b>OLS trendline</b><br>PD_pred = -0.0585506 * X3 + 0.881567<br>R<sup>2</sup>=0.802227<br><br>Interest Rate=%{x}<br>Predicted PD=%{y} <b>(trend)</b><extra></extra>",
         "legendgroup": "",
         "marker": {
          "color": "#636efa",
          "symbol": "circle"
         },
         "mode": "lines",
         "name": "",
         "showlegend": false,
         "type": "scatter",
         "x": {
          "bdata": "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",
          "dtype": "f8"
         },
         "xaxis": "x",
         "y": {
          "bdata": "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",
          "dtype": "f8"
         },
         "yaxis": "y"
        }
       ],
       "layout": {
        "hovermode": "closest",
        "legend": {
         "tracegroupgap": 0
        },
        "template": {
         "data": {
          "bar": [
           {
            "error_x": {
             "color": "#2a3f5f"
            },
            "error_y": {
             "color": "#2a3f5f"
            },
            "marker": {
             "line": {
              "color": "white",
              "width": 0.5
             },
             "pattern": {
              "fillmode": "overlay",
              "size": 10,
              "solidity": 0.2
             }
            },
            "type": "bar"
           }
          ],
          "barpolar": [
           {
            "marker": {
             "line": {
              "color": "white",
              "width": 0.5
             },
             "pattern": {
              "fillmode": "overlay",
              "size": 10,
              "solidity": 0.2
             }
            },
            "type": "barpolar"
           }
          ],
          "carpet": [
           {
            "aaxis": {
             "endlinecolor": "#2a3f5f",
             "gridcolor": "#C8D4E3",
             "linecolor": "#C8D4E3",
             "minorgridcolor": "#C8D4E3",
             "startlinecolor": "#2a3f5f"
            },
            "baxis": {
             "endlinecolor": "#2a3f5f",
             "gridcolor": "#C8D4E3",
             "linecolor": "#C8D4E3",
             "minorgridcolor": "#C8D4E3",
             "startlinecolor": "#2a3f5f"
            },
            "type": "carpet"
           }
          ],
          "choropleth": [
           {
            "colorbar": {
             "outlinewidth": 0,
             "ticks": ""
            },
            "type": "choropleth"
           }
          ],
          "contour": [
           {
            "colorbar": {
             "outlinewidth": 0,
             "ticks": ""
            },
            "colorscale": [
             [
              0,
              "#0d0887"
             ],
             [
              0.1111111111111111,
              "#46039f"
             ],
             [
              0.2222222222222222,
              "#7201a8"
             ],
             [
              0.3333333333333333,
              "#9c179e"
             ],
             [
              0.4444444444444444,
              "#bd3786"
             ],
             [
              0.5555555555555556,
              "#d8576b"
             ],
             [
              0.6666666666666666,
              "#ed7953"
             ],
             [
              0.7777777777777778,
              "#fb9f3a"
             ],
             [
              0.8888888888888888,
              "#fdca26"
             ],
             [
              1,
              "#f0f921"
             ]
            ],
            "type": "contour"
           }
          ],
          "contourcarpet": [
           {
            "colorbar": {
             "outlinewidth": 0,
             "ticks": ""
            },
            "type": "contourcarpet"
           }
          ],
          "heatmap": [
           {
            "colorbar": {
             "outlinewidth": 0,
             "ticks": ""
            },
            "colorscale": [
             [
              0,
              "#0d0887"
             ],
             [
              0.1111111111111111,
              "#46039f"
             ],
             [
              0.2222222222222222,
              "#7201a8"
             ],
             [
              0.3333333333333333,
              "#9c179e"
             ],
             [
              0.4444444444444444,
              "#bd3786"
             ],
             [
              0.5555555555555556,
              "#d8576b"
             ],
             [
              0.6666666666666666,
              "#ed7953"
             ],
             [
              0.7777777777777778,
              "#fb9f3a"
             ],
             [
              0.8888888888888888,
              "#fdca26"
             ],
             [
              1,
              "#f0f921"
             ]
            ],
            "type": "heatmap"
           }
          ],
          "histogram": [
           {
            "marker": {
             "pattern": {
              "fillmode": "overlay",
              "size": 10,
              "solidity": 0.2
             }
            },
            "type": "histogram"
           }
          ],
          "histogram2d": [
           {
            "colorbar": {
             "outlinewidth": 0,
             "ticks": ""
            },
            "colorscale": [
             [
              0,
              "#0d0887"
             ],
             [
              0.1111111111111111,
              "#46039f"
             ],
             [
              0.2222222222222222,
              "#7201a8"
             ],
             [
              0.3333333333333333,
              "#9c179e"
             ],
             [
              0.4444444444444444,
              "#bd3786"
             ],
             [
              0.5555555555555556,
              "#d8576b"
             ],
             [
              0.6666666666666666,
              "#ed7953"
             ],
             [
              0.7777777777777778,
              "#fb9f3a"
             ],
             [
              0.8888888888888888,
              "#fdca26"
             ],
             [
              1,
              "#f0f921"
             ]
            ],
            "type": "histogram2d"
           }
          ],
          "histogram2dcontour": [
           {
            "colorbar": {
             "outlinewidth": 0,
             "ticks": ""
            },
            "colorscale": [
             [
              0,
              "#0d0887"
             ],
             [
              0.1111111111111111,
              "#46039f"
             ],
             [
              0.2222222222222222,
              "#7201a8"
             ],
             [
              0.3333333333333333,
              "#9c179e"
             ],
             [
              0.4444444444444444,
              "#bd3786"
             ],
             [
              0.5555555555555556,
              "#d8576b"
             ],
             [
              0.6666666666666666,
              "#ed7953"
             ],
             [
              0.7777777777777778,
              "#fb9f3a"
             ],
             [
              0.8888888888888888,
              "#fdca26"
             ],
             [
              1,
              "#f0f921"
             ]
            ],
            "type": "histogram2dcontour"
           }
          ],
          "mesh3d": [
           {
            "colorbar": {
             "outlinewidth": 0,
             "ticks": ""
            },
            "type": "mesh3d"
           }
          ],
          "parcoords": [
           {
            "line": {
             "colorbar": {
              "outlinewidth": 0,
              "ticks": ""
             }
            },
            "type": "parcoords"
           }
          ],
          "pie": [
           {
            "automargin": true,
            "type": "pie"
           }
          ],
          "scatter": [
           {
            "fillpattern": {
             "fillmode": "overlay",
             "size": 10,
             "solidity": 0.2
            },
            "type": "scatter"
           }
          ],
          "scatter3d": [
           {
            "line": {
             "colorbar": {
              "outlinewidth": 0,
              "ticks": ""
             }
            },
            "marker": {
             "colorbar": {
              "outlinewidth": 0,
              "ticks": ""
             }
            },
            "type": "scatter3d"
           }
          ],
          "scattercarpet": [
           {
            "marker": {
             "colorbar": {
              "outlinewidth": 0,
              "ticks": ""
             }
            },
            "type": "scattercarpet"
           }
          ],
          "scattergeo": [
           {
            "marker": {
             "colorbar": {
              "outlinewidth": 0,
              "ticks": ""
             }
            },
            "type": "scattergeo"
           }
          ],
          "scattergl": [
           {
            "marker": {
             "colorbar": {
              "outlinewidth": 0,
              "ticks": ""
             }
            },
            "type": "scattergl"
           }
          ],
          "scattermap": [
           {
            "marker": {
             "colorbar": {
              "outlinewidth": 0,
              "ticks": ""
             }
            },
            "type": "scattermap"
           }
          ],
          "scattermapbox": [
           {
            "marker": {
             "colorbar": {
              "outlinewidth": 0,
              "ticks": ""
             }
            },
            "type": "scattermapbox"
           }
          ],
          "scatterpolar": [
           {
            "marker": {
             "colorbar": {
              "outlinewidth": 0,
              "ticks": ""
             }
            },
            "type": "scatterpolar"
           }
          ],
          "scatterpolargl": [
           {
            "marker": {
             "colorbar": {
              "outlinewidth": 0,
              "ticks": ""
             }
            },
            "type": "scatterpolargl"
           }
          ],
          "scatterternary": [
           {
            "marker": {
             "colorbar": {
              "outlinewidth": 0,
              "ticks": ""
             }
            },
            "type": "scatterternary"
           }
          ],
          "surface": [
           {
            "colorbar": {
             "outlinewidth": 0,
             "ticks": ""
            },
            "colorscale": [
             [
              0,
              "#0d0887"
             ],
             [
              0.1111111111111111,
              "#46039f"
             ],
             [
              0.2222222222222222,
              "#7201a8"
             ],
             [
              0.3333333333333333,
              "#9c179e"
             ],
             [
              0.4444444444444444,
              "#bd3786"
             ],
             [
              0.5555555555555556,
              "#d8576b"
             ],
             [
              0.6666666666666666,
              "#ed7953"
             ],
             [
              0.7777777777777778,
              "#fb9f3a"
             ],
             [
              0.8888888888888888,
              "#fdca26"
             ],
             [
              1,
              "#f0f921"
             ]
            ],
            "type": "surface"
           }
          ],
          "table": [
           {
            "cells": {
             "fill": {
              "color": "#EBF0F8"
             },
             "line": {
              "color": "white"
             }
            },
            "header": {
             "fill": {
              "color": "#C8D4E3"
             },
             "line": {
              "color": "white"
             }
            },
            "type": "table"
           }
          ]
         },
         "layout": {
          "annotationdefaults": {
           "arrowcolor": "#2a3f5f",
           "arrowhead": 0,
           "arrowwidth": 1
          },
          "autotypenumbers": "strict",
          "coloraxis": {
           "colorbar": {
            "outlinewidth": 0,
            "ticks": ""
           }
          },
          "colorscale": {
           "diverging": [
            [
             0,
             "#8e0152"
            ],
            [
             0.1,
             "#c51b7d"
            ],
            [
             0.2,
             "#de77ae"
            ],
            [
             0.3,
             "#f1b6da"
            ],
            [
             0.4,
             "#fde0ef"
            ],
            [
             0.5,
             "#f7f7f7"
            ],
            [
             0.6,
             "#e6f5d0"
            ],
            [
             0.7,
             "#b8e186"
            ],
            [
             0.8,
             "#7fbc41"
            ],
            [
             0.9,
             "#4d9221"
            ],
            [
             1,
             "#276419"
            ]
           ],
           "sequential": [
            [
             0,
             "#0d0887"
            ],
            [
             0.1111111111111111,
             "#46039f"
            ],
            [
             0.2222222222222222,
             "#7201a8"
            ],
            [
             0.3333333333333333,
             "#9c179e"
            ],
            [
             0.4444444444444444,
             "#bd3786"
            ],
            [
             0.5555555555555556,
             "#d8576b"
            ],
            [
             0.6666666666666666,
             "#ed7953"
            ],
            [
             0.7777777777777778,
             "#fb9f3a"
            ],
            [
             0.8888888888888888,
             "#fdca26"
            ],
            [
             1,
             "#f0f921"
            ]
           ],
           "sequentialminus": [
            [
             0,
             "#0d0887"
            ],
            [
             0.1111111111111111,
             "#46039f"
            ],
            [
             0.2222222222222222,
             "#7201a8"
            ],
            [
             0.3333333333333333,
             "#9c179e"
            ],
            [
             0.4444444444444444,
             "#bd3786"
            ],
            [
             0.5555555555555556,
             "#d8576b"
            ],
            [
             0.6666666666666666,
             "#ed7953"
            ],
            [
             0.7777777777777778,
             "#fb9f3a"
            ],
            [
             0.8888888888888888,
             "#fdca26"
            ],
            [
             1,
             "#f0f921"
            ]
           ]
          },
          "colorway": [
           "#636efa",
           "#EF553B",
           "#00cc96",
           "#ab63fa",
           "#FFA15A",
           "#19d3f3",
           "#FF6692",
           "#B6E880",
           "#FF97FF",
           "#FECB52"
          ],
          "font": {
           "color": "#2a3f5f"
          },
          "geo": {
           "bgcolor": "white",
           "lakecolor": "white",
           "landcolor": "white",
           "showlakes": true,
           "showland": true,
           "subunitcolor": "#C8D4E3"
          },
          "hoverlabel": {
           "align": "left"
          },
          "hovermode": "closest",
          "mapbox": {
           "style": "light"
          },
          "paper_bgcolor": "white",
          "plot_bgcolor": "white",
          "polar": {
           "angularaxis": {
            "gridcolor": "#EBF0F8",
            "linecolor": "#EBF0F8",
            "ticks": ""
           },
           "bgcolor": "white",
           "radialaxis": {
            "gridcolor": "#EBF0F8",
            "linecolor": "#EBF0F8",
            "ticks": ""
           }
          },
          "scene": {
           "xaxis": {
            "backgroundcolor": "white",
            "gridcolor": "#DFE8F3",
            "gridwidth": 2,
            "linecolor": "#EBF0F8",
            "showbackground": true,
            "ticks": "",
            "zerolinecolor": "#EBF0F8"
           },
           "yaxis": {
            "backgroundcolor": "white",
            "gridcolor": "#DFE8F3",
            "gridwidth": 2,
            "linecolor": "#EBF0F8",
            "showbackground": true,
            "ticks": "",
            "zerolinecolor": "#EBF0F8"
           },
           "zaxis": {
            "backgroundcolor": "white",
            "gridcolor": "#DFE8F3",
            "gridwidth": 2,
            "linecolor": "#EBF0F8",
            "showbackground": true,
            "ticks": "",
            "zerolinecolor": "#EBF0F8"
           }
          },
          "shapedefaults": {
           "line": {
            "color": "#2a3f5f"
           }
          },
          "ternary": {
           "aaxis": {
            "gridcolor": "#DFE8F3",
            "linecolor": "#A2B1C6",
            "ticks": ""
           },
           "baxis": {
            "gridcolor": "#DFE8F3",
            "linecolor": "#A2B1C6",
            "ticks": ""
           },
           "bgcolor": "white",
           "caxis": {
            "gridcolor": "#DFE8F3",
            "linecolor": "#A2B1C6",
            "ticks": ""
           }
          },
          "title": {
           "x": 0.05
          },
          "xaxis": {
           "automargin": true,
           "gridcolor": "#EBF0F8",
           "linecolor": "#EBF0F8",
           "ticks": "",
           "title": {
            "standoff": 15
           },
           "zerolinecolor": "#EBF0F8",
           "zerolinewidth": 2
          },
          "yaxis": {
           "automargin": true,
           "gridcolor": "#EBF0F8",
           "linecolor": "#EBF0F8",
           "ticks": "",
           "title": {
            "standoff": 15
           },
           "zerolinecolor": "#EBF0F8",
           "zerolinewidth": 2
          }
         }
        },
        "title": {
         "text": "Stress Test: Interest Rate vs Default Probability"
        },
        "xaxis": {
         "anchor": "y",
         "domain": [
          0,
          1
         ],
         "title": {
          "text": "Interest Rate"
         }
        },
        "yaxis": {
         "anchor": "x",
         "domain": [
          0,
          1
         ],
         "title": {
          "text": "Predicted PD"
         }
        }
       }
      },
      "image/png": "[encoded data removed]"
     },
     "metadata": {},
     "output_type": "display_data"
    }
   ],
   "source": [
    "import plotly.express as px\n",
    "\n",
    "fig = px.scatter(\n",
    "    df, \n",
    "    x='X3', \n",
    "    y='PD_pred', \n",
    "    title='Stress Test: Interest Rate vs Default Probability',\n",
    "    labels={'X3': 'Interest Rate', 'PD_pred': 'Predicted PD'},\n",
    "    opacity=0.6,\n",
    "    trendline='ols'\n",
    ")\n",
    "\n",
    "fig.update_layout(\n",
    "    template='plotly_white',\n",
    "    hovermode='closest'\n",
    ")\n",
    "\n",
    "fig.show()"
   ]
  }
 ],
 "metadata": {
  "kernelspec": {
   "display_name": "Python (Quant_Learning)",
   "language": "python",
   "name": "quant_learning"
  },
  "language_info": {
   "codemirror_mode": {
    "name": "ipython",
    "version": 3
   },
   "file_extension": ".py",
   "mimetype": "text/x-python",
   "name": "python",
   "nbconvert_exporter": "python",
   "pygments_lexer": "ipython3",
   "version": "3.10.18"
  }
 },
 "nbformat": 4,
 "nbformat_minor": 5
}
